{
 "cells": [
  {
   "cell_type": "markdown",
   "metadata": {},
   "source": [
    "# ** Описание **"
   ]
  },
  {
   "cell_type": "raw",
   "metadata": {},
   "source": [
    "Построить графики распределения в спам и не спам множествах следующих признаков:\n",
    "\n",
    "1\tКоличество слов на странице\n",
    "2\tСредняя длинна слова\n",
    "3\tКоличество слов в заголовке страниц (слова в теге <html><head><title> Some text </title>)\n",
    "4\tКоличество слов в анкорах ссылок (<html><body><a> Some text </a>)\n",
    "5\tКоэффициент сжатия\n",
    "\n",
    "Нужно посчитать статистику минимум по трем признакам и обязательно сделать для 1-го и 2-го признаков\n",
    "\n",
    "И отправить первое решение в соревнование https://kaggle.com/join/antispam_infopoisk\n",
    "На основании одного из указанных выше признаков попытаться разделить мн-во, так чтобы score в соревновании был больше 0.55\n",
    "\n",
    "При выполнении всех этих условия в течении семинара +1 балл к ДЗ\n",
    "\n",
    "Описание ДЗ и правил выставления за него баллов в https://inclass.kaggle.com/c/antispam-infopoisk  \n",
    "Сроки ДЗ уточнить у преподователя - обычно 2 недели"
   ]
  },
  {
   "cell_type": "code",
   "execution_count": 109,
   "metadata": {},
   "outputs": [],
   "source": [
    "from __future__ import division\n",
    "\n",
    "import base64\n",
    "import csv\n",
    "import gzip\n",
    "import zlib\n",
    "import numpy as np\n",
    "\n",
    "from collections import namedtuple\n",
    "from sklearn.metrics import accuracy_score, f1_score\n",
    "\n",
    "%matplotlib inline\n",
    "import matplotlib.pyplot as plt"
   ]
  },
  {
   "cell_type": "code",
   "execution_count": 2,
   "metadata": {},
   "outputs": [],
   "source": [
    "TRACE_NUM = 1000\n",
    "import logging\n",
    "reload(logging)\n",
    "logging.basicConfig(format='%(asctime)s %(levelname)s:%(message)s', level=logging.INFO, datefmt='%H:%M:%S')\n",
    "\n",
    "def trace(items_num, trace_num=TRACE_NUM):\n",
    "    if items_num % trace_num == 0: logging.info(\"Complete items %05d\" % items_num)\n",
    "        \n",
    "def trace_worker(items_num, worker_id, trace_num=TRACE_NUM):\n",
    "    if items_num % trace_num == 0: logging.info(\"Complete items %05d in worker_id %d\" % (items_num, worker_id))"
   ]
  },
  {
   "cell_type": "markdown",
   "metadata": {},
   "source": [
    "### Утилиты"
   ]
  },
  {
   "cell_type": "markdown",
   "metadata": {},
   "source": [
    "#### Декораторы"
   ]
  },
  {
   "cell_type": "code",
   "execution_count": 3,
   "metadata": {},
   "outputs": [],
   "source": [
    "def to_utf8(text):\n",
    "    if isinstance(text, unicode): text = text.encode('utf8')\n",
    "    return text\n",
    "\n",
    "def convert2unicode(f):\n",
    "    def tmp(text):\n",
    "        if not isinstance(text, unicode): text = text.decode('utf8')\n",
    "        return f(text)\n",
    "    return tmp\n",
    "\n",
    "def convert2lower(f):\n",
    "    def tmp(text):        \n",
    "        return f(text.lower())\n",
    "    return tmp\n",
    "\n",
    "#P.S. Декораторы могут усложнять отладку, так что от них вполне можно отказаться и воспользоваться copy-paste"
   ]
  },
  {
   "cell_type": "markdown",
   "metadata": {},
   "source": [
    "### Извлечение текста из html"
   ]
  },
  {
   "cell_type": "markdown",
   "metadata": {},
   "source": [
    "#### Извлечение текста при помощи встроенных модулей"
   ]
  },
  {
   "cell_type": "code",
   "execution_count": 4,
   "metadata": {},
   "outputs": [],
   "source": [
    "from HTMLParser import HTMLParser\n",
    "import re\n",
    "\n",
    "###Извлечение текста из title можно вписать сюда\n",
    "\n",
    "class TextHTMLParser(HTMLParser):\n",
    "    def __init__(self):\n",
    "        HTMLParser.__init__(self)\n",
    "        self._text = []\n",
    "        self._title = \"\"\n",
    "        self._in_title = False\n",
    "\n",
    "    def handle_data(self, data):\n",
    "        text = data.strip()\n",
    "        if len(text) > 0:\n",
    "            text = re.sub('[ \\t\\r\\n]+', ' ', text)\n",
    "            self._text.append(text + ' ')\n",
    "\n",
    "    def handle_starttag(self, tag, attrs):\n",
    "        if tag == 'p':\n",
    "            self._text.append('\\n\\n')\n",
    "        elif tag == 'br':\n",
    "            self._text.append('\\n')\n",
    "        elif tag == 'title':\n",
    "            self._in_title = True\n",
    "\n",
    "    def handle_startendtag(self, tag, attrs):\n",
    "        if tag == 'br':\n",
    "            self._text.append('\\n\\n')\n",
    "\n",
    "    def text(self):\n",
    "        return ''.join(self._text).strip()\n",
    "\n",
    "@convert2unicode\n",
    "def html2text_parser(text):\n",
    "    parser = TextHTMLParser()\n",
    "    parser.feed(text)\n",
    "    return parser.text()"
   ]
  },
  {
   "cell_type": "markdown",
   "metadata": {},
   "source": [
    "#### Извлечение текста при помощи дополнительных библиотек"
   ]
  },
  {
   "cell_type": "code",
   "execution_count": 5,
   "metadata": {},
   "outputs": [],
   "source": [
    "def html2text_bs(raw_html):\n",
    "    \"\"\"\n",
    "    Тут производится извлечения из html текста\n",
    "    \"\"\"\n",
    "    soup = BeautifulSoup(raw_html, \"html.parser\")\n",
    "    [s.extract() for s in soup(['script', 'style'])]\n",
    "    return soup.get_text()\n",
    "\n",
    "def html2text_bs_visible(raw_html):\n",
    "    from bs4 import BeautifulSoup\n",
    "    \"\"\"\n",
    "    Тут производится извлечения из html текста, который видим пользователю\n",
    "    \"\"\"\n",
    "    soup = BeautifulSoup(raw_html, \"html.parser\")    \n",
    "    [s.extract() for s in soup(['style', 'script', '[document]', 'head', 'title'])]\n",
    "    return soup.get_text()\n",
    "\n",
    "def html2text_boilerpipe(raw_html):\n",
    "    import boilerpipe\n",
    "    \"\"\"\n",
    "    еще одна библиотека очень хорошо извлекающая именно видимый пользователю текст,\n",
    "    но она завязана на java\n",
    "    \"\"\"\n",
    "    pass"
   ]
  },
  {
   "cell_type": "code",
   "execution_count": 6,
   "metadata": {},
   "outputs": [],
   "source": [
    "# import os\n",
    "\n",
    "# folder_name= 'content_several'\n",
    "\n",
    "# def get_doc_names(path):\n",
    "#     _, _, filenames = next(os.walk(path))\n",
    "#     return filenames\n",
    "empty_titles = 0\n",
    "empty_anchors = 0\n",
    "def extract_doc_info(doc_name):\n",
    "    global empty_titles\n",
    "    global empty_anchors\n",
    "    empty_titles = 0\n",
    "    from bs4 import BeautifulSoup\n",
    "#     global folder_name\n",
    "#     full_doc_name = os.path.join(folder_name, doc_name)\n",
    "    doc_info = {\n",
    "#         'doc_id': int(doc_name.replace('.dat', '')),\n",
    "        'title': \"\", \n",
    "        'description': \"\",\n",
    "#         'og:site_name': None,\n",
    "#         'url': None,\n",
    "        'keywords': \"\",\n",
    "        'anchors': \"\",\n",
    "    }\n",
    "\n",
    "#     with open(full_doc_name, 'r') as doc:\n",
    "    doc = doc_name\n",
    "#     url = \"\"\n",
    "#     doc_info['url'] = url\n",
    "    soup = BeautifulSoup(doc, 'html.parser')\n",
    "    tit = soup.find('title')\n",
    "    if tit and tit.contents:\n",
    "            doc_info['title'] = tit.contents[0]\n",
    "    else:\n",
    "        empty_titles += 1\n",
    "        \n",
    "    anch = soup.find_all('a')\n",
    "    if anch:\n",
    "        doc_info['anchors'] = anch\n",
    "    else:\n",
    "        empty_anchors += 1 \n",
    "    metas = soup.find_all('meta')\n",
    "    for meta in metas:\n",
    "#         if meta.get(\"property\", None) == \"og:site_name\":\n",
    "#             doc_info['og:site_name'] = meta.get(\"content\", None)\n",
    "#         elif meta.get(\"property\", None) == \"og:type\":\n",
    "#             doc_info['og:type'] = meta.get(\"content\", None)\n",
    "#         elif meta.get(\"property\", None) == \"og:locale\":\n",
    "#             doc_info['og:locale'] = meta.get(\"content\", None)\n",
    "#         elif meta.get(\"property\", None) == \"og:image\":\n",
    "#             doc_info['og:image'] = meta.get(\"content\", None)\n",
    "#         elif meta.get(\"property\", None) == \"og:video\":\n",
    "#             doc_info['og:video'] = meta.get(\"content\", None)\n",
    "        if meta.get(\"name\", None) == \"description\":\n",
    "            doc_info['description'] = meta.get(\"content\", None)\n",
    "        elif meta.get(\"name\", None) == \"keywords\":\n",
    "            doc_info['keywords'] = meta.get(\"content\", None)\n",
    "    return doc_info\n",
    "\n",
    "# doc_names = get_doc_names(folder_name)\n",
    "# doc_names = ['10017.dat']\n",
    "# result = list(map(extract_doc_info, doc_names[:20]))\n",
    "\n",
    "# df = pd.DataFrame(result)\n",
    "# df.sort_values(by=['doc_id'], inplace=True)"
   ]
  },
  {
   "cell_type": "markdown",
   "metadata": {},
   "source": [
    "#### Выбираем какой метод для конвертации html в текст будет основным"
   ]
  },
  {
   "cell_type": "code",
   "execution_count": 7,
   "metadata": {},
   "outputs": [],
   "source": [
    "#html2text = html2text_bs\n",
    "html2text = html2text_parser"
   ]
  },
  {
   "cell_type": "markdown",
   "metadata": {},
   "source": [
    "#### Методы для токенизации текста"
   ]
  },
  {
   "cell_type": "code",
   "execution_count": 8,
   "metadata": {},
   "outputs": [],
   "source": [
    "@convert2lower\n",
    "@convert2unicode\n",
    "def easy_tokenizer(text):\n",
    "    word = unicode()\n",
    "    for symbol in text:\n",
    "        if symbol.isalnum(): word += symbol\n",
    "        elif word:\n",
    "            yield word\n",
    "            word = unicode()\n",
    "    if word: yield word\n",
    "\n",
    "PYMORPHY_CACHE = {}\n",
    "MORPH = None\n",
    "#hint, чтобы установка pymorphy2 не была бы обязательной\n",
    "def get_lemmatizer():\n",
    "    import pymorphy2\n",
    "    global MORPH\n",
    "    if MORPH is None: MORPH = pymorphy2.MorphAnalyzer()\n",
    "    return MORPH\n",
    "\n",
    "@convert2lower\n",
    "@convert2unicode\n",
    "def pymorphy_tokenizer(text):\n",
    "    global PYMORPHY_CACHE\n",
    "    for word in easy_tokenizer(text):\n",
    "        word_hash = hash(word)\n",
    "        if word_hash not in PYMORPHY_CACHE:\n",
    "            PYMORPHY_CACHE[word_hash] = get_lemmatizer().parse(word)[0].normal_form            \n",
    "        yield PYMORPHY_CACHE[word_hash]"
   ]
  },
  {
   "cell_type": "markdown",
   "metadata": {},
   "source": [
    "#### Основная функция, которая вызывается для преобразования html в список слов"
   ]
  },
  {
   "cell_type": "code",
   "execution_count": 9,
   "metadata": {},
   "outputs": [],
   "source": [
    "def html2word(raw_html, to_text=html2text, tokenizer=easy_tokenizer):\n",
    "    return tokenizer(to_text(raw_html).lower())"
   ]
  },
  {
   "cell_type": "markdown",
   "metadata": {},
   "source": [
    "#### Рассчет финальных метрик"
   ]
  },
  {
   "cell_type": "code",
   "execution_count": 10,
   "metadata": {},
   "outputs": [],
   "source": [
    "def safe_divide(a, b):\n",
    "    if a == 0: return 0.0\n",
    "    elif b == 0: return 0.0\n",
    "    else: return a/b\n",
    "\n",
    "def calculate_metrics(predictions, threshold):    \n",
    "    \"\"\"\n",
    "    Функция подсчета метрик\n",
    "    Параметры\n",
    "    predictions - ранки по документам\n",
    "    threshold  - порог для метрик\n",
    "    \"\"\"\n",
    "    true_positive = 0\n",
    "    false_positive = 0\n",
    "    true_negative = 0\n",
    "    false_negative = 0\n",
    "    for (url_id, mark, url, prediction) in predictions:        \n",
    "        mark_predict = prediction > threshold\n",
    "\n",
    "        if mark_predict:                     \n",
    "            if mark_predict == mark: true_positive += 1\n",
    "            else: false_positive += 1                    \n",
    "        else:                     \n",
    "            if  mark_predict == mark: true_negative += 1\n",
    "            else: false_negative += 1\n",
    "\n",
    "    class_prec  = safe_divide(true_positive, true_positive + false_positive)\n",
    "    class_recall = safe_divide(true_positive, true_positive + false_negative)\n",
    "        \n",
    "    class_F1 = safe_divide(2 * class_prec * class_recall, class_prec + class_recall)\n",
    "    \n",
    "    \n",
    "    not_class_prec = safe_divide(true_negative, true_negative + false_negative)\n",
    "    not_class_recall = safe_divide(true_negative, true_negative + false_positive)\n",
    "    \n",
    "    not_class_F1 = safe_divide(2 * not_class_prec * not_class_recall, not_class_prec + not_class_recall)\n",
    "    \n",
    "    return ( (class_prec, class_recall, class_F1), (not_class_prec, not_class_recall, not_class_F1) )\n",
    "\n",
    "def arange(start, stop, step):\n",
    "    cur_value = start\n",
    "    while True:\n",
    "        if cur_value > stop: break\n",
    "        yield cur_value\n",
    "        cur_value += step\n",
    "\n",
    "def plot_results(docs, min_threshold=-1, max_threshold=1, step=0.1, trace=False):\n",
    "    x = []\n",
    "    y_p = []\n",
    "    y_n = []\n",
    "    docs_predictions = classifier.predict_all(docs)\n",
    "    for threshold in arange(min_threshold, max_threshold, step):\n",
    "        r = calculate_metrics(docs_predictions, threshold)\n",
    "        x.append(threshold)\n",
    "        y_p.append(r[0])\n",
    "        y_n.append(r[1])        \n",
    "        if trace: \n",
    "            print 'threshold %s' % threshold\n",
    "            print '\\tclass_prec %s, class_recall %s, class_F1 %s' % r[0]\n",
    "            print '\\tnot_class_prec %s, not_class_recall %s, not_class_F1 %s' % r[1]\n",
    "            print '\\t\\tMacroF1Mesure %s' % ((r[0][2] + r[1][2])/2)\n",
    "    plot_stats(x, y_p, \"Class Result\")\n",
    "    plot_stats(x, y_n, \"Not class Result\")    \n",
    "\n",
    "\n",
    "def plot_stats(x, y, title):\n",
    "    plt.figure(figsize=(10, 5))\n",
    "\n",
    "    prec, = plt.plot( x, \n",
    "                     [k[0] for k in y], \"r\", label='Precision', \n",
    "                     linewidth=1)\n",
    "    accur, = plt.plot( x, \n",
    "                      [k[1] for k in y], \"b\", label='Recall',\n",
    "                      linewidth=1)\n",
    "    f1, =    plt.plot( x, \n",
    "                      [k[2] for k in y], \"g\", label='F1',\n",
    "                      linewidth=1)\n",
    "    plt.grid(True)\n",
    "    plt.legend(handles=[prec, accur, f1])\n",
    "    plt.title(title)\n",
    "    plt.show()"
   ]
  },
  {
   "cell_type": "code",
   "execution_count": 11,
   "metadata": {},
   "outputs": [],
   "source": [
    "def calc_features(url, html_data):\n",
    "    words = list(html2word(html_data))\n",
    "    words_num = len(words)\n",
    "    \n",
    "    avg_word_len = sum(map(len, words)) / words_num\n",
    "    \n",
    "    title = extract_doc_info(html_data)['title']\n",
    "    title_words_num = len(title.split())   \n",
    "    \n",
    "    anchor_list = extract_doc_info(html_data)['anchors']\n",
    "    norm_anchor_list = [anchor.contents[0] if anchor.contents else \"\" for anchor in anchor_list]\n",
    "#     k = [str for anch in norm_anchor_list]\n",
    "    anchors = []\n",
    "    for anch in norm_anchor_list:\n",
    "        if anch:\n",
    "            anchors.append(anch)\n",
    "        else:\n",
    "            anchors.append(\"\")\n",
    "            \n",
    "    anchor_num = len(anchors)\n",
    "    anchor_words_len = sum(len(i) for i in anchors)\n",
    "    \n",
    "    compression_level = len(zlib.compress(html_data)) / len(html_data)\n",
    "                            \n",
    "    return [len(words), avg_word_len, title_words_num, anchor_num, compression_level, anchor_words_len]\n",
    "#     return anchor_words"
   ]
  },
  {
   "cell_type": "code",
   "execution_count": 12,
   "metadata": {},
   "outputs": [],
   "source": [
    "# def calc_anchor_features(url, html_data):\n",
    "#     anchor_list = extract_doc_info(html_data)['anchors']\n",
    "#     norm_anchor_list = [anchor.contents[0] if anchor.contents else \"\" for anchor in anchor_list]\n",
    "    \n",
    "#     anchor_words_num = sum((len(anch.split()) for anch in norm_anchor_list))\n",
    "    \n",
    "#     return anchor_words_num"
   ]
  },
  {
   "cell_type": "code",
   "execution_count": 13,
   "metadata": {},
   "outputs": [],
   "source": [
    "# result = list(map(extract_doc_info, doc_names[:20]))\n",
    "\n",
    "# df = pd.DataFrame(result)\n",
    "# df.sort_values(by=['doc_id'], inplace=True)"
   ]
  },
  {
   "cell_type": "code",
   "execution_count": 14,
   "metadata": {},
   "outputs": [
    {
     "name": "stdout",
     "output_type": "stream",
     "text": [
      "[9, 3.888888888888889, 1, 2, 0.9433962264150944, 23]\n"
     ]
    }
   ],
   "source": [
    "test_html_data = '''\n",
    "<html>\n",
    "<title> Заголовок <a>Ololo</a> </title>\n",
    "спам 1 2 3 <a> anchor link text </a>\n",
    "</html>\n",
    "'''\n",
    "test_url = 'http://ololo'\n",
    "test_features = calc_features(test_url, test_html_data)\n",
    "print test_features"
   ]
  },
  {
   "cell_type": "code",
   "execution_count": 21,
   "metadata": {},
   "outputs": [],
   "source": [
    "from multiprocessing import Process, Queue\n",
    "\n",
    "DocItem = namedtuple('DocItem', ['doc_id', 'is_spam', 'url', 'features'])\n",
    "\n",
    "WORKER_NUM = 8\n",
    "\n",
    "def load_csv(input_file_name, calc_features_f):    \n",
    "    \"\"\"\n",
    "    Загружаем данные и извлекаем на лету признаки\n",
    "    Сам контент не сохраняется, чтобы уменьшить потребление памяти - чтобы\n",
    "    можно было запускать даже на ноутбуках в классе\n",
    "    \"\"\"\n",
    "    \n",
    "    with gzip.open(input_file_name) if input_file_name.endswith('gz') else open(input_file_name)  as input_file:            \n",
    "        headers = input_file.readline()\n",
    "        \n",
    "        for i, line in enumerate(input_file):\n",
    "            trace(i)\n",
    "            parts = line.strip().split('\\t')\n",
    "            url_id = int(parts[0])                                        \n",
    "            mark = bool(int(parts[1]))                    \n",
    "            url = parts[2]\n",
    "            pageInb64 = parts[3]\n",
    "            html_data = base64.b64decode(pageInb64)\n",
    "            features = calc_features_f(url, html_data)            \n",
    "            yield DocItem(url_id, mark, url, features)            \n",
    "                \n",
    "        trace(i, 1)  \n",
    "        \n",
    "def load_csv_worker(input_file_name, calc_features_f, worker_id, res_queue):    \n",
    "    with gzip.open(input_file_name) if input_file_name.endswith('gz') else open(input_file_name)  as input_file:            \n",
    "        headers = input_file.readline()\n",
    "        \n",
    "        for i, line in enumerate(input_file):\n",
    "            trace_worker(i, worker_id)\n",
    "            if i % WORKER_NUM != worker_id: continue\n",
    "            parts = line.strip().split('\\t')\n",
    "            url_id = int(parts[0])                                        \n",
    "            mark = bool(int(parts[1]))                    \n",
    "            url = parts[2]\n",
    "            pageInb64 = parts[3]\n",
    "            html_data = base64.b64decode(pageInb64)\n",
    "            features = calc_features_f(url, html_data)            \n",
    "            res_queue.put(DocItem(url_id, mark, url, features))\n",
    "                \n",
    "        trace_worker(i, worker_id, 1)  \n",
    "    res_queue.put(None)\n",
    "        \n",
    "def load_csv_multiprocess(input_file_name, calc_features_f):\n",
    "    processes = []\n",
    "    res_queue = Queue()    \n",
    "    for i in xrange(WORKER_NUM):\n",
    "        process = Process(target=load_csv_worker, args=(input_file_name, calc_features_f, i, res_queue))\n",
    "        processes.append(process)\n",
    "        process.start()\n",
    "    \n",
    "    complete_workers = 0\n",
    "    while complete_workers != WORKER_NUM:\n",
    "        item = res_queue.get()\n",
    "        if item is None:\n",
    "            complete_workers += 1\n",
    "        else:\n",
    "            yield item\n",
    "        \n",
    "    for process in processes: process.join()"
   ]
  },
  {
   "cell_type": "markdown",
   "metadata": {},
   "source": [
    "** Обрабатываем входной файл **\n",
    "<br>\n",
    "Формат - поля разделенные табуляциями\n",
    "<br>\n",
    "0 - идентификатор документа\n",
    "<br>\n",
    "1 - метка класса 0 - не спам, 1 - спам\n",
    "<br>\n",
    "2 - урл документа\n",
    "<br>\n",
    "3 - документ в кодировке base64\n",
    "\n",
    "Выходной формат - массив кортежей вида\n",
    "(doc_id, is_spam, url, html_data)"
   ]
  },
  {
   "cell_type": "code",
   "execution_count": 16,
   "metadata": {
    "collapsed": true
   },
   "outputs": [
    {
     "name": "stderr",
     "output_type": "stream",
     "text": [
      "01:56:39 INFO:Complete items 00000 in worker_id 0\n",
      "01:56:39 INFO:Complete items 00000 in worker_id 1\n",
      "01:56:39 INFO:Complete items 00000 in worker_id 2\n",
      "01:56:39 INFO:Complete items 00000 in worker_id 3\n",
      "01:56:39 INFO:Complete items 00000 in worker_id 4\n",
      "01:56:39 INFO:Complete items 00000 in worker_id 6\n",
      "01:56:39 INFO:Complete items 00000 in worker_id 5\n",
      "01:56:39 INFO:Complete items 00000 in worker_id 8\n",
      "01:56:39 INFO:Complete items 00000 in worker_id 7\n",
      "01:56:39 INFO:Complete items 00000 in worker_id 10\n",
      "01:56:39 INFO:Complete items 00000 in worker_id 11\n",
      "01:56:39 INFO:Complete items 00000 in worker_id 13\n",
      "01:56:39 INFO:Complete items 00000 in worker_id 14\n",
      "01:56:39 INFO:Complete items 00000 in worker_id 9\n",
      "01:56:39 INFO:Complete items 00000 in worker_id 12\n",
      "01:56:39 INFO:Complete items 00000 in worker_id 15\n",
      "01:58:23 INFO:Complete items 01000 in worker_id 8\n",
      "01:58:29 INFO:Complete items 01000 in worker_id 5\n",
      "01:58:39 INFO:Complete items 01000 in worker_id 14\n",
      "01:58:41 INFO:Complete items 01000 in worker_id 10\n",
      "01:58:44 INFO:Complete items 01000 in worker_id 3\n",
      "01:58:47 INFO:Complete items 01000 in worker_id 0\n",
      "01:58:58 INFO:Complete items 01000 in worker_id 6\n",
      "01:59:09 INFO:Complete items 01000 in worker_id 7\n",
      "01:59:11 INFO:Complete items 01000 in worker_id 13\n",
      "01:59:13 INFO:Complete items 01000 in worker_id 9\n",
      "01:59:43 INFO:Complete items 01000 in worker_id 11\n",
      "02:00:22 INFO:Complete items 02000 in worker_id 8\n",
      "02:00:31 INFO:Complete items 02000 in worker_id 3\n",
      "02:00:33 INFO:Complete items 02000 in worker_id 10\n",
      "02:00:40 INFO:Complete items 01000 in worker_id 4\n",
      "02:01:04 INFO:Complete items 02000 in worker_id 14\n",
      "02:01:12 INFO:Complete items 02000 in worker_id 5\n",
      "02:01:12 INFO:Complete items 02000 in worker_id 6\n",
      "02:01:21 INFO:Complete items 02000 in worker_id 13\n",
      "02:01:24 INFO:Complete items 01000 in worker_id 15\n",
      "02:01:31 INFO:Complete items 02000 in worker_id 7\n",
      "02:01:36 INFO:Complete items 02000 in worker_id 11\n",
      "02:01:38 INFO:Complete items 02000 in worker_id 0\n",
      "02:01:47 INFO:Complete items 01000 in worker_id 12\n",
      "02:02:03 INFO:Complete items 01000 in worker_id 1\n",
      "02:02:09 INFO:Complete items 02000 in worker_id 9\n",
      "02:02:16 INFO:Complete items 01000 in worker_id 2\n",
      "02:02:26 INFO:Complete items 03000 in worker_id 3\n",
      "02:02:36 INFO:Complete items 03000 in worker_id 8\n",
      "02:02:52 INFO:Complete items 02000 in worker_id 4\n",
      "02:02:56 INFO:Complete items 03000 in worker_id 5\n",
      "02:03:12 INFO:Complete items 03000 in worker_id 14\n",
      "02:03:26 INFO:Complete items 03000 in worker_id 6\n",
      "02:03:33 INFO:Complete items 02000 in worker_id 15\n",
      "02:03:36 INFO:Complete items 02000 in worker_id 1\n",
      "02:03:38 INFO:Complete items 03000 in worker_id 7\n",
      "02:04:08 INFO:Complete items 02000 in worker_id 12\n",
      "02:04:16 INFO:Complete items 03000 in worker_id 0\n",
      "02:04:20 INFO:Complete items 04000 in worker_id 5\n",
      "02:04:28 INFO:Complete items 04000 in worker_id 3\n",
      "02:04:29 INFO:Complete items 03000 in worker_id 9\n",
      "02:04:29 INFO:Complete items 03000 in worker_id 13\n",
      "02:04:37 INFO:Complete items 02000 in worker_id 2\n",
      "02:04:46 INFO:Complete items 03000 in worker_id 4\n",
      "02:04:51 INFO:Complete items 04000 in worker_id 14\n",
      "02:05:02 INFO:Complete items 03000 in worker_id 15\n",
      "02:05:48 INFO:Complete items 04000 in worker_id 7\n",
      "02:05:48 INFO:Complete items 03000 in worker_id 1\n",
      "02:05:55 INFO:Complete items 03000 in worker_id 11\n",
      "02:06:12 INFO:Complete items 03000 in worker_id 12\n",
      "02:06:32 INFO:Complete items 03000 in worker_id 10\n",
      "02:06:35 INFO:Complete items 04000 in worker_id 8\n",
      "02:06:35 INFO:Complete items 04000 in worker_id 9\n",
      "02:06:37 INFO:Complete items 03000 in worker_id 2\n",
      "02:06:42 INFO:Complete items 04000 in worker_id 0\n",
      "02:06:53 INFO:Complete items 04000 in worker_id 4\n",
      "02:07:03 INFO:Complete items 04000 in worker_id 15\n",
      "02:07:10 INFO:Complete items 05000 in worker_id 5\n",
      "02:07:55 INFO:Complete items 05000 in worker_id 7\n",
      "02:08:18 INFO:Complete items 05000 in worker_id 9\n",
      "02:08:21 INFO:Complete items 04000 in worker_id 13\n",
      "02:08:25 INFO:Complete items 04000 in worker_id 6\n",
      "02:08:32 INFO:Complete items 04000 in worker_id 12\n",
      "02:08:34 INFO:Complete items 05000 in worker_id 8\n",
      "02:08:35 INFO:Complete items 04000 in worker_id 10\n",
      "02:08:38 INFO:Complete items 04000 in worker_id 2\n",
      "02:08:40 INFO:Complete items 05000 in worker_id 0\n",
      "02:08:52 INFO:Complete items 04000 in worker_id 1\n",
      "02:08:52 INFO:Complete items 05000 in worker_id 15\n",
      "02:09:05 INFO:Complete items 04000 in worker_id 11\n",
      "02:09:10 INFO:Complete items 06000 in worker_id 5\n",
      "02:09:45 INFO:Complete items 05000 in worker_id 4\n",
      "02:09:46 INFO:Complete items 05000 in worker_id 14\n",
      "02:09:47 INFO:Complete items 06000 in worker_id 7\n",
      "02:10:06 INFO:Complete items 05000 in worker_id 6\n",
      "02:10:15 INFO:Complete items 05000 in worker_id 3\n",
      "02:10:17 INFO:Complete items 05000 in worker_id 2\n",
      "02:10:28 INFO:Complete items 05000 in worker_id 12\n",
      "02:10:37 INFO:Complete items 05000 in worker_id 10\n",
      "02:10:40 INFO:Complete items 06000 in worker_id 15\n",
      "02:10:42 INFO:Complete items 06000 in worker_id 8\n",
      "02:10:42 INFO:Complete items 06000 in worker_id 9\n",
      "02:11:15 INFO:Complete items 06000 in worker_id 0\n",
      "02:11:17 INFO:Complete items 07000 in worker_id 7\n",
      "02:11:28 INFO:Complete items 07043 in worker_id 7\n",
      "02:11:32 INFO:Complete items 07000 in worker_id 5\n",
      "02:11:35 INFO:Complete items 07043 in worker_id 5\n",
      "02:11:41 INFO:Complete items 06000 in worker_id 6\n",
      "02:11:47 INFO:Complete items 06000 in worker_id 4\n",
      "02:11:52 INFO:Complete items 06000 in worker_id 14\n",
      "02:11:54 INFO:Complete items 05000 in worker_id 13\n",
      "02:11:55 INFO:Complete items 06000 in worker_id 3\n",
      "02:12:09 INFO:Complete items 07000 in worker_id 9\n",
      "02:12:14 INFO:Complete items 07043 in worker_id 9\n",
      "02:12:16 INFO:Complete items 06000 in worker_id 2\n",
      "02:12:20 INFO:Complete items 06000 in worker_id 10\n",
      "02:12:32 INFO:Complete items 07000 in worker_id 8\n",
      "02:12:36 INFO:Complete items 07043 in worker_id 8\n",
      "02:12:40 INFO:Complete items 07000 in worker_id 0\n",
      "02:12:42 INFO:Complete items 06000 in worker_id 12\n",
      "02:12:44 INFO:Complete items 07043 in worker_id 0\n",
      "02:12:58 INFO:Complete items 05000 in worker_id 1\n",
      "02:13:04 INFO:Complete items 05000 in worker_id 11\n",
      "02:13:07 INFO:Complete items 07000 in worker_id 14\n",
      "02:13:09 INFO:Complete items 07043 in worker_id 14\n",
      "02:13:10 INFO:Complete items 06000 in worker_id 13\n",
      "02:13:35 INFO:Complete items 07000 in worker_id 10\n",
      "02:13:36 INFO:Complete items 07000 in worker_id 4\n",
      "02:13:37 INFO:Complete items 07043 in worker_id 4\n",
      "02:13:39 INFO:Complete items 07043 in worker_id 10\n",
      "02:13:48 INFO:Complete items 07000 in worker_id 2\n",
      "02:13:49 INFO:Complete items 07043 in worker_id 2\n",
      "02:14:01 INFO:Complete items 07000 in worker_id 6\n",
      "02:14:05 INFO:Complete items 07043 in worker_id 6\n",
      "02:14:06 INFO:Complete items 06000 in worker_id 11\n",
      "02:14:08 INFO:Complete items 07000 in worker_id 15\n",
      "02:14:09 INFO:Complete items 07043 in worker_id 15\n",
      "02:14:11 INFO:Complete items 07000 in worker_id 13\n",
      "02:14:13 INFO:Complete items 07000 in worker_id 12\n",
      "02:14:13 INFO:Complete items 07043 in worker_id 13\n",
      "02:14:14 INFO:Complete items 07043 in worker_id 12\n",
      "02:14:31 INFO:Complete items 07000 in worker_id 3\n",
      "02:14:36 INFO:Complete items 07043 in worker_id 3\n",
      "02:14:46 INFO:Complete items 06000 in worker_id 1\n",
      "02:15:07 INFO:Complete items 07000 in worker_id 1\n",
      "02:15:08 INFO:Complete items 07043 in worker_id 1\n",
      "02:15:24 INFO:Complete items 07000 in worker_id 11\n",
      "02:15:25 INFO:Complete items 07043 in worker_id 11\n"
     ]
    },
    {
     "name": "stdout",
     "output_type": "stream",
     "text": [
      "CPU times: user 471 ms, sys: 151 ms, total: 622 ms\n",
      "Wall time: 18min 46s\n"
     ]
    }
   ],
   "source": [
    "%%time\n",
    "\n",
    "TRAIN_DATA_FILE  = 'kaggle/kaggle_train_data_tab.csv.gz'\n",
    "# TRAIN_DATA_FILE  = 'kaggle/kaggle_train_data_tab_300.csv.gz'\n",
    "\n",
    "train_docs = list(load_csv_multiprocess(TRAIN_DATA_FILE, calc_features))"
   ]
  },
  {
   "cell_type": "code",
   "execution_count": 17,
   "metadata": {},
   "outputs": [],
   "source": [
    "train_copy = train_docs[:]"
   ]
  },
  {
   "cell_type": "code",
   "execution_count": 22,
   "metadata": {
    "collapsed": true
   },
   "outputs": [
    {
     "name": "stderr",
     "output_type": "stream",
     "text": [
      "02:20:36 INFO:Complete items 00000 in worker_id 0\n",
      "02:20:36 INFO:Complete items 00000 in worker_id 1\n",
      "02:20:36 INFO:Complete items 00000 in worker_id 2\n",
      "02:20:36 INFO:Complete items 00000 in worker_id 3\n",
      "02:20:36 INFO:Complete items 00000 in worker_id 4\n",
      "02:20:36 INFO:Complete items 00000 in worker_id 6\n",
      "02:20:36 INFO:Complete items 00000 in worker_id 7\n",
      "02:20:36 INFO:Complete items 00000 in worker_id 5\n",
      "02:22:35 INFO:Complete items 01000 in worker_id 6\n",
      "02:22:38 INFO:Complete items 01000 in worker_id 2\n",
      "02:22:52 INFO:Complete items 01000 in worker_id 1\n",
      "02:23:09 INFO:Complete items 01000 in worker_id 4\n",
      "02:23:37 INFO:Complete items 01000 in worker_id 5\n",
      "02:24:03 INFO:Complete items 01000 in worker_id 3\n",
      "02:24:29 INFO:Complete items 01000 in worker_id 7\n",
      "02:25:01 INFO:Complete items 02000 in worker_id 2\n",
      "02:25:20 INFO:Complete items 02000 in worker_id 6\n",
      "02:25:58 INFO:Complete items 02000 in worker_id 5\n",
      "02:26:03 INFO:Complete items 02000 in worker_id 1\n",
      "02:26:16 INFO:Complete items 02000 in worker_id 4\n",
      "02:27:08 INFO:Complete items 02000 in worker_id 3\n",
      "02:27:45 INFO:Complete items 03000 in worker_id 6\n",
      "02:28:50 INFO:Complete items 03000 in worker_id 5\n",
      "02:29:02 INFO:Complete items 03000 in worker_id 2\n",
      "02:29:17 INFO:Complete items 03000 in worker_id 4\n",
      "02:29:25 INFO:Complete items 03000 in worker_id 1\n",
      "02:29:37 INFO:Complete items 03000 in worker_id 3\n",
      "02:30:07 INFO:Complete items 01000 in worker_id 0\n",
      "02:30:38 INFO:Complete items 04000 in worker_id 5\n",
      "02:30:40 INFO:Complete items 04000 in worker_id 6\n",
      "02:31:17 INFO:Complete items 04000 in worker_id 2\n",
      "02:31:22 INFO:Complete items 04000 in worker_id 4\n",
      "02:32:19 INFO:Complete items 02000 in worker_id 7\n",
      "02:32:51 INFO:Complete items 04000 in worker_id 1\n",
      "02:32:54 INFO:Complete items 02000 in worker_id 0\n",
      "02:32:56 INFO:Complete items 05000 in worker_id 6\n",
      "02:32:58 INFO:Complete items 04000 in worker_id 3\n",
      "02:32:59 INFO:Complete items 05000 in worker_id 5\n",
      "02:33:17 INFO:Complete items 05000 in worker_id 2\n",
      "02:33:44 INFO:Complete items 05000 in worker_id 4\n",
      "02:34:10 INFO:Complete items 03000 in worker_id 7\n",
      "02:34:50 INFO:Complete items 06000 in worker_id 6\n",
      "02:35:12 INFO:Complete items 05000 in worker_id 1\n",
      "02:35:29 INFO:Complete items 06000 in worker_id 2\n",
      "02:35:39 INFO:Complete items 05000 in worker_id 3\n",
      "02:36:01 INFO:Complete items 03000 in worker_id 0\n",
      "02:36:56 INFO:Complete items 06000 in worker_id 4\n",
      "02:37:14 INFO:Complete items 04000 in worker_id 7\n",
      "02:37:34 INFO:Complete items 07000 in worker_id 6\n",
      "02:37:38 INFO:Complete items 06000 in worker_id 1\n",
      "02:38:06 INFO:Complete items 07000 in worker_id 2\n",
      "02:38:13 INFO:Complete items 04000 in worker_id 0\n",
      "02:39:10 INFO:Complete items 06000 in worker_id 3\n",
      "02:39:15 INFO:Complete items 05000 in worker_id 7\n",
      "02:39:26 INFO:Complete items 07000 in worker_id 4\n",
      "02:39:53 INFO:Complete items 07000 in worker_id 1\n",
      "02:40:03 INFO:Complete items 08000 in worker_id 6\n",
      "02:40:19 INFO:Complete items 08000 in worker_id 2\n",
      "02:41:00 INFO:Complete items 05000 in worker_id 0\n",
      "02:41:16 INFO:Complete items 06000 in worker_id 5\n",
      "02:41:47 INFO:Complete items 07000 in worker_id 3\n",
      "02:42:11 INFO:Complete items 09000 in worker_id 6\n",
      "02:42:19 INFO:Complete items 06000 in worker_id 7\n",
      "02:42:19 INFO:Complete items 08000 in worker_id 4\n",
      "02:42:20 INFO:Complete items 09000 in worker_id 2\n",
      "02:42:46 INFO:Complete items 08000 in worker_id 1\n",
      "02:43:22 INFO:Complete items 06000 in worker_id 0\n",
      "02:43:26 INFO:Complete items 07000 in worker_id 5\n",
      "02:44:21 INFO:Complete items 10000 in worker_id 2\n",
      "02:44:23 INFO:Complete items 07000 in worker_id 7\n",
      "02:44:31 INFO:Complete items 08000 in worker_id 3\n",
      "02:44:36 INFO:Complete items 10000 in worker_id 6\n",
      "02:44:54 INFO:Complete items 09000 in worker_id 1\n",
      "02:45:28 INFO:Complete items 09000 in worker_id 4\n",
      "02:45:37 INFO:Complete items 07000 in worker_id 0\n",
      "02:46:45 INFO:Complete items 11000 in worker_id 6\n",
      "02:46:51 INFO:Complete items 08000 in worker_id 7\n",
      "02:47:06 INFO:Complete items 10000 in worker_id 1\n",
      "02:47:14 INFO:Complete items 09000 in worker_id 3\n",
      "02:47:47 INFO:Complete items 08000 in worker_id 5\n",
      "02:48:40 INFO:Complete items 08000 in worker_id 0\n",
      "02:49:09 INFO:Complete items 11000 in worker_id 1\n",
      "02:49:09 INFO:Complete items 11000 in worker_id 2\n",
      "02:49:19 INFO:Complete items 10000 in worker_id 4\n",
      "02:49:24 INFO:Complete items 09000 in worker_id 7\n",
      "02:50:09 INFO:Complete items 09000 in worker_id 5\n",
      "02:50:51 INFO:Complete items 12000 in worker_id 6\n",
      "02:51:24 INFO:Complete items 11000 in worker_id 4\n",
      "02:52:17 INFO:Complete items 12000 in worker_id 2\n",
      "02:52:27 INFO:Complete items 12000 in worker_id 1\n",
      "02:53:03 INFO:Complete items 09000 in worker_id 0\n",
      "02:53:16 INFO:Complete items 10000 in worker_id 7\n",
      "02:53:58 INFO:Complete items 13000 in worker_id 6\n",
      "02:54:02 INFO:Complete items 12000 in worker_id 4\n",
      "02:54:37 INFO:Complete items 10000 in worker_id 5\n",
      "02:54:39 INFO:Complete items 13000 in worker_id 1\n",
      "02:55:11 INFO:Complete items 13000 in worker_id 2\n",
      "02:55:19 INFO:Complete items 10000 in worker_id 0\n",
      "02:55:20 INFO:Complete items 11000 in worker_id 7\n",
      "02:55:48 INFO:Complete items 10000 in worker_id 3\n",
      "02:56:49 INFO:Complete items 13000 in worker_id 4\n",
      "02:57:25 INFO:Complete items 11000 in worker_id 5\n",
      "02:57:37 INFO:Complete items 14000 in worker_id 1\n",
      "02:57:49 INFO:Complete items 12000 in worker_id 7\n",
      "02:57:58 INFO:Complete items 11000 in worker_id 3\n",
      "02:58:18 INFO:Complete items 14000 in worker_id 6\n",
      "02:58:32 INFO:Complete items 11000 in worker_id 0\n",
      "02:59:18 INFO:Complete items 14000 in worker_id 4\n",
      "02:59:18 INFO:Complete items 14000 in worker_id 2\n",
      "02:59:45 INFO:Complete items 13000 in worker_id 7\n",
      "02:59:53 INFO:Complete items 15000 in worker_id 1\n",
      "02:59:58 INFO:Complete items 12000 in worker_id 3\n",
      "03:00:19 INFO:Complete items 15000 in worker_id 6\n",
      "03:00:35 INFO:Complete items 12000 in worker_id 5\n",
      "03:01:12 INFO:Complete items 12000 in worker_id 0\n",
      "03:01:56 INFO:Complete items 16000 in worker_id 1\n",
      "03:01:59 INFO:Complete items 16038 in worker_id 1\n",
      "03:02:11 INFO:Complete items 14000 in worker_id 7\n",
      "03:02:29 INFO:Complete items 15000 in worker_id 2\n",
      "03:02:35 INFO:Complete items 13000 in worker_id 3\n",
      "03:02:47 INFO:Complete items 13000 in worker_id 5\n",
      "03:02:51 INFO:Complete items 13000 in worker_id 0\n",
      "03:03:09 INFO:Complete items 15000 in worker_id 4\n",
      "03:04:16 INFO:Complete items 14000 in worker_id 3\n",
      "03:04:25 INFO:Complete items 15000 in worker_id 7\n",
      "03:04:58 INFO:Complete items 16000 in worker_id 2\n",
      "03:05:01 INFO:Complete items 16038 in worker_id 2\n",
      "03:05:04 INFO:Complete items 14000 in worker_id 0\n",
      "03:05:13 INFO:Complete items 16000 in worker_id 6\n",
      "03:05:16 INFO:Complete items 16038 in worker_id 6\n",
      "03:05:34 INFO:Complete items 14000 in worker_id 5\n",
      "03:05:35 INFO:Complete items 16000 in worker_id 4\n",
      "03:05:36 INFO:Complete items 16038 in worker_id 4\n",
      "03:06:06 INFO:Complete items 15000 in worker_id 3\n",
      "03:06:13 INFO:Complete items 15000 in worker_id 0\n",
      "03:06:42 INFO:Complete items 16000 in worker_id 7\n",
      "03:06:45 INFO:Complete items 16038 in worker_id 7\n",
      "03:06:50 INFO:Complete items 15000 in worker_id 5\n",
      "03:07:05 INFO:Complete items 16000 in worker_id 3\n",
      "03:07:06 INFO:Complete items 16038 in worker_id 3\n",
      "03:07:10 INFO:Complete items 16000 in worker_id 0\n",
      "03:07:13 INFO:Complete items 16038 in worker_id 0\n",
      "03:08:07 INFO:Complete items 16000 in worker_id 5\n",
      "03:08:08 INFO:Complete items 16038 in worker_id 5\n"
     ]
    },
    {
     "name": "stdout",
     "output_type": "stream",
     "text": [
      "CPU times: user 969 ms, sys: 276 ms, total: 1.25 s\n",
      "Wall time: 47min 32s\n"
     ]
    }
   ],
   "source": [
    "%%time\n",
    "\n",
    "TEST_DATA_FILE  = 'kaggle/kaggle_test_data_tab.csv.gz'\n",
    "# TEST_DATA_FILE  = 'kaggle/kaggle_train_data_tab_300.csv.gz'\n",
    "\n",
    "test_docs = list(load_csv_multiprocess(TEST_DATA_FILE, calc_features))"
   ]
  },
  {
   "cell_type": "code",
   "execution_count": 18,
   "metadata": {},
   "outputs": [
    {
     "data": {
      "text/plain": [
       "7044"
      ]
     },
     "execution_count": 18,
     "metadata": {},
     "output_type": "execute_result"
    }
   ],
   "source": [
    "len(train_copy)"
   ]
  },
  {
   "cell_type": "code",
   "execution_count": 23,
   "metadata": {},
   "outputs": [],
   "source": [
    "test_copy = test_docs[:]"
   ]
  },
  {
   "cell_type": "code",
   "execution_count": 24,
   "metadata": {},
   "outputs": [
    {
     "data": {
      "text/plain": [
       "16039"
      ]
     },
     "execution_count": 24,
     "metadata": {},
     "output_type": "execute_result"
    }
   ],
   "source": [
    "len(test_docs)"
   ]
  },
  {
   "cell_type": "code",
   "execution_count": 25,
   "metadata": {},
   "outputs": [
    {
     "name": "stderr",
     "output_type": "stream",
     "text": [
      "/home/waffpad/anaconda3/envs/antispam/lib/python2.7/site-packages/matplotlib/axes/_axes.py:6571: UserWarning: The 'normed' kwarg is deprecated, and has been replaced by the 'density' kwarg.\n",
      "  warnings.warn(\"The 'normed' kwarg is deprecated, and has been \"\n"
     ]
    },
    {
     "data": {
      "image/png": "[encoded data removed]",
      "text/plain": [
       "<Figure size 360x216 with 1 Axes>"
      ]
     },
     "metadata": {
      "needs_background": "light"
     },
     "output_type": "display_data"
    }
   ],
   "source": [
    "is_spam_data = [doc.features[0] for doc in train_docs if doc[1] == True]\n",
    "not_spam_data = [doc.features[0] for doc in train_docs if doc[1] == False]\n",
    "bins = range(1, 3000, 10)\n",
    "plt.figure(figsize=(5,3))\n",
    "plt.hist(is_spam_data, bins=bins, color='red', normed=True, alpha=0.7, label='spam')\n",
    "plt.hist(not_spam_data, bins=bins, color='blue', normed=True, alpha=0.7, label='not_spam')\n",
    "plt.axvline(800,c='y')\n",
    "plt.title('NumWords')\n",
    "plt.legend()\n",
    "plt.show()"
   ]
  },
  {
   "cell_type": "code",
   "execution_count": 26,
   "metadata": {},
   "outputs": [
    {
     "data": {
      "image/png": "[encoded data removed]",
      "text/plain": [
       "<Figure size 360x216 with 1 Axes>"
      ]
     },
     "metadata": {
      "needs_background": "light"
     },
     "output_type": "display_data"
    }
   ],
   "source": [
    "is_spam_data = [doc.features[4] for doc in train_docs if doc[1] == True]\n",
    "not_spam_data = [doc.features[4] for doc in train_docs if doc[1] == False]\n",
    "bins = 100\n",
    "plt.figure(figsize=(5,3))\n",
    "plt.hist(is_spam_data, bins=bins, color='red', normed=True, alpha=0.7, label='spam')\n",
    "plt.hist(not_spam_data, bins=bins, color='blue', normed=True, alpha=0.7, label='not_spam')\n",
    "plt.axvline(0.28,c='y')\n",
    "plt.title('compression_level')\n",
    "plt.legend()\n",
    "plt.show()"
   ]
  },
  {
   "cell_type": "code",
   "execution_count": 27,
   "metadata": {},
   "outputs": [
    {
     "data": {
      "image/png": "[encoded data removed]",
      "text/plain": [
       "<Figure size 720x360 with 1 Axes>"
      ]
     },
     "metadata": {
      "needs_background": "light"
     },
     "output_type": "display_data"
    }
   ],
   "source": [
    "is_spam_data = [doc.features[1] for doc in train_docs if doc[1] == True]\n",
    "not_spam_data = [doc.features[1] for doc in train_docs if doc[1] == False]\n",
    "bins = 100\n",
    "plt.figure(figsize=(10,5))\n",
    "plt.hist(is_spam_data, bins=bins, color='red', normed=True, alpha=0.7, label='spam')\n",
    "plt.hist(not_spam_data, bins=bins, color='blue', normed=True, alpha=0.7, label='not_spam')\n",
    "# plt.axvline(0.28,c='y')\n",
    "plt.title('avg_word_len')\n",
    "plt.legend()\n",
    "plt.show()"
   ]
  },
  {
   "cell_type": "code",
   "execution_count": 28,
   "metadata": {},
   "outputs": [
    {
     "data": {
      "image/png": "[encoded data removed]",
      "text/plain": [
       "<Figure size 720x360 with 1 Axes>"
      ]
     },
     "metadata": {
      "needs_background": "light"
     },
     "output_type": "display_data"
    }
   ],
   "source": [
    "is_spam_data = [doc.features[2] for doc in train_docs if doc[1] == True]\n",
    "not_spam_data = [doc.features[2] for doc in train_docs if doc[1] == False]\n",
    "bins = 200\n",
    "plt.figure(figsize=(10,5))\n",
    "plt.xlim(0,50)\n",
    "plt.hist(is_spam_data, bins=bins, color='red', normed=True, alpha=0.7, label='spam')\n",
    "plt.hist(not_spam_data, bins=bins, color='blue', normed=True, alpha=0.7, label='not_spam')\n",
    "# plt.axvline(0.28,c='y')\n",
    "plt.title('title_words_num')\n",
    "plt.legend()\n",
    "plt.show()"
   ]
  },
  {
   "cell_type": "code",
   "execution_count": 29,
   "metadata": {},
   "outputs": [
    {
     "data": {
      "image/png": "[encoded data removed]",
      "text/plain": [
       "<Figure size 720x360 with 1 Axes>"
      ]
     },
     "metadata": {
      "needs_background": "light"
     },
     "output_type": "display_data"
    }
   ],
   "source": [
    "is_spam_data = [doc.features[3] for doc in train_docs if doc[1] == True]\n",
    "not_spam_data = [doc.features[3] for doc in train_docs if doc[1] == False]\n",
    "bins = 200\n",
    "plt.figure(figsize=(10,5))\n",
    "plt.xlim(0,500)\n",
    "plt.hist(is_spam_data, bins=bins, color='red', normed=True, alpha=0.7, label='spam')\n",
    "plt.hist(not_spam_data, bins=bins, color='blue', normed=True, alpha=0.7, label='not_spam')\n",
    "# plt.axvline(0.28,c='y')\n",
    "plt.title('anchor_num')\n",
    "plt.legend()\n",
    "plt.show()"
   ]
  },
  {
   "cell_type": "code",
   "execution_count": null,
   "metadata": {},
   "outputs": [],
   "source": []
  },
  {
   "cell_type": "code",
   "execution_count": 30,
   "metadata": {},
   "outputs": [
    {
     "data": {
      "image/png": "[encoded data removed]",
      "text/plain": [
       "<Figure size 720x360 with 1 Axes>"
      ]
     },
     "metadata": {
      "needs_background": "light"
     },
     "output_type": "display_data"
    }
   ],
   "source": [
    "is_spam_data = [doc.features[5] for doc in train_docs if doc[1] == True]\n",
    "not_spam_data = [doc.features[5] for doc in train_docs if doc[1] == False]\n",
    "bins = 300\n",
    "plt.figure(figsize=(10,5))\n",
    "plt.xlim(0,9000)\n",
    "plt.hist(is_spam_data, bins=bins, color='red', normed=True, alpha=0.7, label='spam')\n",
    "plt.hist(not_spam_data, bins=bins, color='blue', normed=True, alpha=0.7, label='not_spam')\n",
    "# plt.axvline(0.28,c='y')\n",
    "plt.title('anchor_words_len')\n",
    "plt.legend()\n",
    "plt.show()"
   ]
  },
  {
   "cell_type": "code",
   "execution_count": null,
   "metadata": {},
   "outputs": [],
   "source": []
  },
  {
   "cell_type": "code",
   "execution_count": null,
   "metadata": {},
   "outputs": [],
   "source": []
  },
  {
   "cell_type": "code",
   "execution_count": null,
   "metadata": {},
   "outputs": [],
   "source": []
  },
  {
   "cell_type": "code",
   "execution_count": 31,
   "metadata": {},
   "outputs": [
    {
     "data": {
      "image/png": "[encoded data removed]",
      "text/plain": [
       "<Figure size 432x288 with 1 Axes>"
      ]
     },
     "metadata": {
      "needs_background": "light"
     },
     "output_type": "display_data"
    }
   ],
   "source": [
    "is_spam_data = [doc.features[1] for doc in train_docs if doc[1] == True]\n",
    "not_spam_data = [doc.features[1] for doc in train_docs if doc[1] == False]\n",
    "bins = 100\n",
    "plt.hist(is_spam_data, bins=bins, color='red', normed=True, alpha=0.7, label='spam')\n",
    "plt.hist(not_spam_data, bins=bins, color='blue', normed=True, alpha=0.7, label='not_spam')\n",
    "plt.title('AvgWordLen')\n",
    "plt.legend()\n",
    "plt.show()"
   ]
  },
  {
   "cell_type": "code",
   "execution_count": 32,
   "metadata": {},
   "outputs": [
    {
     "data": {
      "image/png": "[encoded data removed]",
      "text/plain": [
       "<Figure size 432x288 with 1 Axes>"
      ]
     },
     "metadata": {
      "needs_background": "light"
     },
     "output_type": "display_data"
    }
   ],
   "source": [
    "is_spam_data = [doc.features[2] for doc in train_docs if doc[1] == True]\n",
    "not_spam_data = [doc.features[2] for doc in train_docs if doc[1] == False]\n",
    "bins = range(0, 30, 1)\n",
    "plt.hist(is_spam_data, bins=bins, color='red', normed=True, alpha=0.7, label='spam')\n",
    "plt.hist(not_spam_data, bins=bins, color='blue', normed=True, alpha=0.7, label='not_spam')\n",
    "plt.title('NumWordsTitle')\n",
    "plt.legend()\n",
    "plt.show()"
   ]
  },
  {
   "cell_type": "code",
   "execution_count": 33,
   "metadata": {},
   "outputs": [],
   "source": [
    "#Добавить графики для остальных фичей"
   ]
  },
  {
   "cell_type": "markdown",
   "metadata": {},
   "source": [
    "** Классификатор: **\n",
    "Нужно реализовать"
   ]
  },
  {
   "cell_type": "code",
   "execution_count": 67,
   "metadata": {},
   "outputs": [],
   "source": [
    "from sklearn.ensemble import RandomForestClassifier\n",
    "from sklearn.model_selection import KFold, train_test_split, GridSearchCV, RandomizedSearchCV"
   ]
  },
  {
   "cell_type": "code",
   "execution_count": 120,
   "metadata": {},
   "outputs": [],
   "source": [
    "clf = RandomForestClassifier(max_depth=2, random_state=0,\n",
    "                             n_estimators=100,  n_jobs=-1) \n",
    "# clf = RandomForestClassifier(random_state=0, n_jobs=-1) "
   ]
  },
  {
   "cell_type": "code",
   "execution_count": 149,
   "metadata": {},
   "outputs": [
    {
     "data": {
      "text/plain": [
       "((7044, 6), (7044,))"
      ]
     },
     "execution_count": 149,
     "metadata": {},
     "output_type": "execute_result"
    }
   ],
   "source": [
    "X, y = [], []\n",
    "for doc in train_docs:\n",
    "    X.append(doc.features)\n",
    "    y.append(1 if doc.is_spam else 0)\n",
    "X, y = np.array(X), np.array(y)\n",
    "X.shape, y.shape"
   ]
  },
  {
   "cell_type": "code",
   "execution_count": 137,
   "metadata": {},
   "outputs": [
    {
     "data": {
      "text/plain": [
       "True"
      ]
     },
     "execution_count": 137,
     "metadata": {},
     "output_type": "execute_result"
    }
   ],
   "source": [
    "(test_docs[0].is_spam)"
   ]
  },
  {
   "cell_type": "code",
   "execution_count": 138,
   "metadata": {},
   "outputs": [
    {
     "data": {
      "text/plain": [
       "DocItem(doc_id=-9108377762069095307, is_spam=False, url='http://vrtp.ru/index.php?showtopic=7944', features=[3116, 5.059050064184852, 4, 263, 0.18146690148140474, 2234])"
      ]
     },
     "execution_count": 138,
     "metadata": {},
     "output_type": "execute_result"
    }
   ],
   "source": [
    "train_docs[100]"
   ]
  },
  {
   "cell_type": "code",
   "execution_count": 156,
   "metadata": {},
   "outputs": [
    {
     "data": {
      "text/plain": [
       "(16039, 6)"
      ]
     },
     "execution_count": 156,
     "metadata": {},
     "output_type": "execute_result"
    }
   ],
   "source": [
    "X_test = []\n",
    "for doc in test_docs:\n",
    "    X_test.append(doc.features)\n",
    "X_test = np.array(X_test)\n",
    "X_test.shape"
   ]
  },
  {
   "cell_type": "code",
   "execution_count": 151,
   "metadata": {},
   "outputs": [],
   "source": [
    "X_tr, X_te, y_tr, y_te = train_test_split(X, y, test_size=0.1)"
   ]
  },
  {
   "cell_type": "code",
   "execution_count": 169,
   "metadata": {},
   "outputs": [
    {
     "ename": "KeyboardInterrupt",
     "evalue": "",
     "output_type": "error",
     "traceback": [
      "\u001b[0;31m---------------------------------------------------------------------------\u001b[0m",
      "\u001b[0;31mKeyboardInterrupt\u001b[0m                         Traceback (most recent call last)",
      "\u001b[0;32m<ipython-input-169-f03191c1082e>\u001b[0m in \u001b[0;36m<module>\u001b[0;34m()\u001b[0m\n\u001b[0;32m----> 1\u001b[0;31m \u001b[0mget_ipython\u001b[0m\u001b[0;34m(\u001b[0m\u001b[0;34m)\u001b[0m\u001b[0;34m.\u001b[0m\u001b[0mmagic\u001b[0m\u001b[0;34m(\u001b[0m\u001b[0;34mu'time random_search.fit(X_tr, y_tr)'\u001b[0m\u001b[0;34m)\u001b[0m\u001b[0;34m\u001b[0m\u001b[0m\n\u001b[0m",
      "\u001b[0;32m/home/waffpad/anaconda3/envs/antispam/lib/python2.7/site-packages/IPython/core/interactiveshell.pyc\u001b[0m in \u001b[0;36mmagic\u001b[0;34m(self, arg_s)\u001b[0m\n\u001b[1;32m   2158\u001b[0m         \u001b[0mmagic_name\u001b[0m\u001b[0;34m,\u001b[0m \u001b[0m_\u001b[0m\u001b[0;34m,\u001b[0m \u001b[0mmagic_arg_s\u001b[0m \u001b[0;34m=\u001b[0m \u001b[0marg_s\u001b[0m\u001b[0;34m.\u001b[0m\u001b[0mpartition\u001b[0m\u001b[0;34m(\u001b[0m\u001b[0;34m' '\u001b[0m\u001b[0;34m)\u001b[0m\u001b[0;34m\u001b[0m\u001b[0m\n\u001b[1;32m   2159\u001b[0m         \u001b[0mmagic_name\u001b[0m \u001b[0;34m=\u001b[0m \u001b[0mmagic_name\u001b[0m\u001b[0;34m.\u001b[0m\u001b[0mlstrip\u001b[0m\u001b[0;34m(\u001b[0m\u001b[0mprefilter\u001b[0m\u001b[0;34m.\u001b[0m\u001b[0mESC_MAGIC\u001b[0m\u001b[0;34m)\u001b[0m\u001b[0;34m\u001b[0m\u001b[0m\n\u001b[0;32m-> 2160\u001b[0;31m         \u001b[0;32mreturn\u001b[0m \u001b[0mself\u001b[0m\u001b[0;34m.\u001b[0m\u001b[0mrun_line_magic\u001b[0m\u001b[0;34m(\u001b[0m\u001b[0mmagic_name\u001b[0m\u001b[0;34m,\u001b[0m \u001b[0mmagic_arg_s\u001b[0m\u001b[0;34m)\u001b[0m\u001b[0;34m\u001b[0m\u001b[0m\n\u001b[0m\u001b[1;32m   2161\u001b[0m \u001b[0;34m\u001b[0m\u001b[0m\n\u001b[1;32m   2162\u001b[0m     \u001b[0;31m#-------------------------------------------------------------------------\u001b[0m\u001b[0;34m\u001b[0m\u001b[0;34m\u001b[0m\u001b[0m\n",
      "\u001b[0;32m/home/waffpad/anaconda3/envs/antispam/lib/python2.7/site-packages/IPython/core/interactiveshell.pyc\u001b[0m in \u001b[0;36mrun_line_magic\u001b[0;34m(self, magic_name, line)\u001b[0m\n\u001b[1;32m   2079\u001b[0m                 \u001b[0mkwargs\u001b[0m\u001b[0;34m[\u001b[0m\u001b[0;34m'local_ns'\u001b[0m\u001b[0;34m]\u001b[0m \u001b[0;34m=\u001b[0m \u001b[0msys\u001b[0m\u001b[0;34m.\u001b[0m\u001b[0m_getframe\u001b[0m\u001b[0;34m(\u001b[0m\u001b[0mstack_depth\u001b[0m\u001b[0;34m)\u001b[0m\u001b[0;34m.\u001b[0m\u001b[0mf_locals\u001b[0m\u001b[0;34m\u001b[0m\u001b[0m\n\u001b[1;32m   2080\u001b[0m             \u001b[0;32mwith\u001b[0m \u001b[0mself\u001b[0m\u001b[0;34m.\u001b[0m\u001b[0mbuiltin_trap\u001b[0m\u001b[0;34m:\u001b[0m\u001b[0;34m\u001b[0m\u001b[0m\n\u001b[0;32m-> 2081\u001b[0;31m                 \u001b[0mresult\u001b[0m \u001b[0;34m=\u001b[0m \u001b[0mfn\u001b[0m\u001b[0;34m(\u001b[0m\u001b[0;34m*\u001b[0m\u001b[0margs\u001b[0m\u001b[0;34m,\u001b[0m\u001b[0;34m**\u001b[0m\u001b[0mkwargs\u001b[0m\u001b[0;34m)\u001b[0m\u001b[0;34m\u001b[0m\u001b[0m\n\u001b[0m\u001b[1;32m   2082\u001b[0m             \u001b[0;32mreturn\u001b[0m \u001b[0mresult\u001b[0m\u001b[0;34m\u001b[0m\u001b[0m\n\u001b[1;32m   2083\u001b[0m \u001b[0;34m\u001b[0m\u001b[0m\n",
      "\u001b[0;32m</home/waffpad/anaconda3/envs/antispam/lib/python2.7/site-packages/decorator.pyc:decorator-gen-60>\u001b[0m in \u001b[0;36mtime\u001b[0;34m(self, line, cell, local_ns)\u001b[0m\n",
      "\u001b[0;32m/home/waffpad/anaconda3/envs/antispam/lib/python2.7/site-packages/IPython/core/magic.pyc\u001b[0m in \u001b[0;36m<lambda>\u001b[0;34m(f, *a, **k)\u001b[0m\n\u001b[1;32m    186\u001b[0m     \u001b[0;31m# but it's overkill for just that one bit of state.\u001b[0m\u001b[0;34m\u001b[0m\u001b[0;34m\u001b[0m\u001b[0m\n\u001b[1;32m    187\u001b[0m     \u001b[0;32mdef\u001b[0m \u001b[0mmagic_deco\u001b[0m\u001b[0;34m(\u001b[0m\u001b[0marg\u001b[0m\u001b[0;34m)\u001b[0m\u001b[0;34m:\u001b[0m\u001b[0;34m\u001b[0m\u001b[0m\n\u001b[0;32m--> 188\u001b[0;31m         \u001b[0mcall\u001b[0m \u001b[0;34m=\u001b[0m \u001b[0;32mlambda\u001b[0m \u001b[0mf\u001b[0m\u001b[0;34m,\u001b[0m \u001b[0;34m*\u001b[0m\u001b[0ma\u001b[0m\u001b[0;34m,\u001b[0m \u001b[0;34m**\u001b[0m\u001b[0mk\u001b[0m\u001b[0;34m:\u001b[0m \u001b[0mf\u001b[0m\u001b[0;34m(\u001b[0m\u001b[0;34m*\u001b[0m\u001b[0ma\u001b[0m\u001b[0;34m,\u001b[0m \u001b[0;34m**\u001b[0m\u001b[0mk\u001b[0m\u001b[0;34m)\u001b[0m\u001b[0;34m\u001b[0m\u001b[0m\n\u001b[0m\u001b[1;32m    189\u001b[0m \u001b[0;34m\u001b[0m\u001b[0m\n\u001b[1;32m    190\u001b[0m         \u001b[0;32mif\u001b[0m \u001b[0mcallable\u001b[0m\u001b[0;34m(\u001b[0m\u001b[0marg\u001b[0m\u001b[0;34m)\u001b[0m\u001b[0;34m:\u001b[0m\u001b[0;34m\u001b[0m\u001b[0m\n",
      "\u001b[0;32m/home/waffpad/anaconda3/envs/antispam/lib/python2.7/site-packages/IPython/core/magics/execution.pyc\u001b[0m in \u001b[0;36mtime\u001b[0;34m(self, line, cell, local_ns)\u001b[0m\n\u001b[1;32m   1187\u001b[0m         \u001b[0;32mif\u001b[0m \u001b[0mmode\u001b[0m\u001b[0;34m==\u001b[0m\u001b[0;34m'eval'\u001b[0m\u001b[0;34m:\u001b[0m\u001b[0;34m\u001b[0m\u001b[0m\n\u001b[1;32m   1188\u001b[0m             \u001b[0mst\u001b[0m \u001b[0;34m=\u001b[0m \u001b[0mclock2\u001b[0m\u001b[0;34m(\u001b[0m\u001b[0;34m)\u001b[0m\u001b[0;34m\u001b[0m\u001b[0m\n\u001b[0;32m-> 1189\u001b[0;31m             \u001b[0mout\u001b[0m \u001b[0;34m=\u001b[0m \u001b[0meval\u001b[0m\u001b[0;34m(\u001b[0m\u001b[0mcode\u001b[0m\u001b[0;34m,\u001b[0m \u001b[0mglob\u001b[0m\u001b[0;34m,\u001b[0m \u001b[0mlocal_ns\u001b[0m\u001b[0;34m)\u001b[0m\u001b[0;34m\u001b[0m\u001b[0m\n\u001b[0m\u001b[1;32m   1190\u001b[0m             \u001b[0mend\u001b[0m \u001b[0;34m=\u001b[0m \u001b[0mclock2\u001b[0m\u001b[0;34m(\u001b[0m\u001b[0;34m)\u001b[0m\u001b[0;34m\u001b[0m\u001b[0m\n\u001b[1;32m   1191\u001b[0m         \u001b[0;32melse\u001b[0m\u001b[0;34m:\u001b[0m\u001b[0;34m\u001b[0m\u001b[0m\n",
      "\u001b[0;32m<timed eval>\u001b[0m in \u001b[0;36m<module>\u001b[0;34m()\u001b[0m\n",
      "\u001b[0;32m/home/waffpad/anaconda3/envs/antispam/lib/python2.7/site-packages/sklearn/model_selection/_search.pyc\u001b[0m in \u001b[0;36mfit\u001b[0;34m(self, X, y, groups, **fit_params)\u001b[0m\n\u001b[1;32m    721\u001b[0m                 \u001b[0;32mreturn\u001b[0m \u001b[0mresults_container\u001b[0m\u001b[0;34m[\u001b[0m\u001b[0;36m0\u001b[0m\u001b[0;34m]\u001b[0m\u001b[0;34m\u001b[0m\u001b[0m\n\u001b[1;32m    722\u001b[0m \u001b[0;34m\u001b[0m\u001b[0m\n\u001b[0;32m--> 723\u001b[0;31m             \u001b[0mself\u001b[0m\u001b[0;34m.\u001b[0m\u001b[0m_run_search\u001b[0m\u001b[0;34m(\u001b[0m\u001b[0mevaluate_candidates\u001b[0m\u001b[0;34m)\u001b[0m\u001b[0;34m\u001b[0m\u001b[0m\n\u001b[0m\u001b[1;32m    724\u001b[0m \u001b[0;34m\u001b[0m\u001b[0m\n\u001b[1;32m    725\u001b[0m         \u001b[0mresults\u001b[0m \u001b[0;34m=\u001b[0m \u001b[0mresults_container\u001b[0m\u001b[0;34m[\u001b[0m\u001b[0;36m0\u001b[0m\u001b[0;34m]\u001b[0m\u001b[0;34m\u001b[0m\u001b[0m\n",
      "\u001b[0;32m/home/waffpad/anaconda3/envs/antispam/lib/python2.7/site-packages/sklearn/model_selection/_search.pyc\u001b[0m in \u001b[0;36m_run_search\u001b[0;34m(self, evaluate_candidates)\u001b[0m\n\u001b[1;32m   1514\u001b[0m         evaluate_candidates(ParameterSampler(\n\u001b[1;32m   1515\u001b[0m             \u001b[0mself\u001b[0m\u001b[0;34m.\u001b[0m\u001b[0mparam_distributions\u001b[0m\u001b[0;34m,\u001b[0m \u001b[0mself\u001b[0m\u001b[0;34m.\u001b[0m\u001b[0mn_iter\u001b[0m\u001b[0;34m,\u001b[0m\u001b[0;34m\u001b[0m\u001b[0m\n\u001b[0;32m-> 1516\u001b[0;31m             random_state=self.random_state))\n\u001b[0m",
      "\u001b[0;32m/home/waffpad/anaconda3/envs/antispam/lib/python2.7/site-packages/sklearn/model_selection/_search.pyc\u001b[0m in \u001b[0;36mevaluate_candidates\u001b[0;34m(candidate_params)\u001b[0m\n\u001b[1;32m    710\u001b[0m                                \u001b[0;32mfor\u001b[0m \u001b[0mparameters\u001b[0m\u001b[0;34m,\u001b[0m \u001b[0;34m(\u001b[0m\u001b[0mtrain\u001b[0m\u001b[0;34m,\u001b[0m \u001b[0mtest\u001b[0m\u001b[0;34m)\u001b[0m\u001b[0;34m\u001b[0m\u001b[0m\n\u001b[1;32m    711\u001b[0m                                in product(candidate_params,\n\u001b[0;32m--> 712\u001b[0;31m                                           cv.split(X, y, groups)))\n\u001b[0m\u001b[1;32m    713\u001b[0m \u001b[0;34m\u001b[0m\u001b[0m\n\u001b[1;32m    714\u001b[0m                 \u001b[0mall_candidate_params\u001b[0m\u001b[0;34m.\u001b[0m\u001b[0mextend\u001b[0m\u001b[0;34m(\u001b[0m\u001b[0mcandidate_params\u001b[0m\u001b[0;34m)\u001b[0m\u001b[0;34m\u001b[0m\u001b[0m\n",
      "\u001b[0;32m/home/waffpad/anaconda3/envs/antispam/lib/python2.7/site-packages/sklearn/externals/joblib/parallel.pyc\u001b[0m in \u001b[0;36m__call__\u001b[0;34m(self, iterable)\u001b[0m\n\u001b[1;32m    932\u001b[0m \u001b[0;34m\u001b[0m\u001b[0m\n\u001b[1;32m    933\u001b[0m             \u001b[0;32mwith\u001b[0m \u001b[0mself\u001b[0m\u001b[0;34m.\u001b[0m\u001b[0m_backend\u001b[0m\u001b[0;34m.\u001b[0m\u001b[0mretrieval_context\u001b[0m\u001b[0;34m(\u001b[0m\u001b[0;34m)\u001b[0m\u001b[0;34m:\u001b[0m\u001b[0;34m\u001b[0m\u001b[0m\n\u001b[0;32m--> 934\u001b[0;31m                 \u001b[0mself\u001b[0m\u001b[0;34m.\u001b[0m\u001b[0mretrieve\u001b[0m\u001b[0;34m(\u001b[0m\u001b[0;34m)\u001b[0m\u001b[0;34m\u001b[0m\u001b[0m\n\u001b[0m\u001b[1;32m    935\u001b[0m             \u001b[0;31m# Make sure that we get a last message telling us we are done\u001b[0m\u001b[0;34m\u001b[0m\u001b[0;34m\u001b[0m\u001b[0m\n\u001b[1;32m    936\u001b[0m             \u001b[0melapsed_time\u001b[0m \u001b[0;34m=\u001b[0m \u001b[0mtime\u001b[0m\u001b[0;34m.\u001b[0m\u001b[0mtime\u001b[0m\u001b[0;34m(\u001b[0m\u001b[0;34m)\u001b[0m \u001b[0;34m-\u001b[0m \u001b[0mself\u001b[0m\u001b[0;34m.\u001b[0m\u001b[0m_start_time\u001b[0m\u001b[0;34m\u001b[0m\u001b[0m\n",
      "\u001b[0;32m/home/waffpad/anaconda3/envs/antispam/lib/python2.7/site-packages/sklearn/externals/joblib/parallel.pyc\u001b[0m in \u001b[0;36mretrieve\u001b[0;34m(self)\u001b[0m\n\u001b[1;32m    831\u001b[0m             \u001b[0;32mtry\u001b[0m\u001b[0;34m:\u001b[0m\u001b[0;34m\u001b[0m\u001b[0m\n\u001b[1;32m    832\u001b[0m                 \u001b[0;32mif\u001b[0m \u001b[0mgetattr\u001b[0m\u001b[0;34m(\u001b[0m\u001b[0mself\u001b[0m\u001b[0;34m.\u001b[0m\u001b[0m_backend\u001b[0m\u001b[0;34m,\u001b[0m \u001b[0;34m'supports_timeout'\u001b[0m\u001b[0;34m,\u001b[0m \u001b[0mFalse\u001b[0m\u001b[0;34m)\u001b[0m\u001b[0;34m:\u001b[0m\u001b[0;34m\u001b[0m\u001b[0m\n\u001b[0;32m--> 833\u001b[0;31m                     \u001b[0mself\u001b[0m\u001b[0;34m.\u001b[0m\u001b[0m_output\u001b[0m\u001b[0;34m.\u001b[0m\u001b[0mextend\u001b[0m\u001b[0;34m(\u001b[0m\u001b[0mjob\u001b[0m\u001b[0;34m.\u001b[0m\u001b[0mget\u001b[0m\u001b[0;34m(\u001b[0m\u001b[0mtimeout\u001b[0m\u001b[0;34m=\u001b[0m\u001b[0mself\u001b[0m\u001b[0;34m.\u001b[0m\u001b[0mtimeout\u001b[0m\u001b[0;34m)\u001b[0m\u001b[0;34m)\u001b[0m\u001b[0;34m\u001b[0m\u001b[0m\n\u001b[0m\u001b[1;32m    834\u001b[0m                 \u001b[0;32melse\u001b[0m\u001b[0;34m:\u001b[0m\u001b[0;34m\u001b[0m\u001b[0m\n\u001b[1;32m    835\u001b[0m                     \u001b[0mself\u001b[0m\u001b[0;34m.\u001b[0m\u001b[0m_output\u001b[0m\u001b[0;34m.\u001b[0m\u001b[0mextend\u001b[0m\u001b[0;34m(\u001b[0m\u001b[0mjob\u001b[0m\u001b[0;34m.\u001b[0m\u001b[0mget\u001b[0m\u001b[0;34m(\u001b[0m\u001b[0;34m)\u001b[0m\u001b[0;34m)\u001b[0m\u001b[0;34m\u001b[0m\u001b[0m\n",
      "\u001b[0;32m/home/waffpad/anaconda3/envs/antispam/lib/python2.7/site-packages/sklearn/externals/joblib/_parallel_backends.pyc\u001b[0m in \u001b[0;36mwrap_future_result\u001b[0;34m(future, timeout)\u001b[0m\n\u001b[1;32m    519\u001b[0m         AsyncResults.get from multiprocessing.\"\"\"\n\u001b[1;32m    520\u001b[0m         \u001b[0;32mtry\u001b[0m\u001b[0;34m:\u001b[0m\u001b[0;34m\u001b[0m\u001b[0m\n\u001b[0;32m--> 521\u001b[0;31m             \u001b[0;32mreturn\u001b[0m \u001b[0mfuture\u001b[0m\u001b[0;34m.\u001b[0m\u001b[0mresult\u001b[0m\u001b[0;34m(\u001b[0m\u001b[0mtimeout\u001b[0m\u001b[0;34m=\u001b[0m\u001b[0mtimeout\u001b[0m\u001b[0;34m)\u001b[0m\u001b[0;34m\u001b[0m\u001b[0m\n\u001b[0m\u001b[1;32m    522\u001b[0m         \u001b[0;32mexcept\u001b[0m \u001b[0mLokyTimeoutError\u001b[0m\u001b[0;34m:\u001b[0m\u001b[0;34m\u001b[0m\u001b[0m\n\u001b[1;32m    523\u001b[0m             \u001b[0;32mraise\u001b[0m \u001b[0mTimeoutError\u001b[0m\u001b[0;34m(\u001b[0m\u001b[0;34m)\u001b[0m\u001b[0;34m\u001b[0m\u001b[0m\n",
      "\u001b[0;32m/home/waffpad/anaconda3/envs/antispam/lib/python2.7/site-packages/sklearn/externals/joblib/externals/loky/_base.pyc\u001b[0m in \u001b[0;36mresult\u001b[0;34m(self, timeout)\u001b[0m\n\u001b[1;32m    426\u001b[0m                     \u001b[0;32mreturn\u001b[0m \u001b[0mself\u001b[0m\u001b[0;34m.\u001b[0m\u001b[0m__get_result\u001b[0m\u001b[0;34m(\u001b[0m\u001b[0;34m)\u001b[0m\u001b[0;34m\u001b[0m\u001b[0m\n\u001b[1;32m    427\u001b[0m \u001b[0;34m\u001b[0m\u001b[0m\n\u001b[0;32m--> 428\u001b[0;31m                 \u001b[0mself\u001b[0m\u001b[0;34m.\u001b[0m\u001b[0m_condition\u001b[0m\u001b[0;34m.\u001b[0m\u001b[0mwait\u001b[0m\u001b[0;34m(\u001b[0m\u001b[0mtimeout\u001b[0m\u001b[0;34m)\u001b[0m\u001b[0;34m\u001b[0m\u001b[0m\n\u001b[0m\u001b[1;32m    429\u001b[0m \u001b[0;34m\u001b[0m\u001b[0m\n\u001b[1;32m    430\u001b[0m                 \u001b[0;32mif\u001b[0m \u001b[0mself\u001b[0m\u001b[0;34m.\u001b[0m\u001b[0m_state\u001b[0m \u001b[0;32min\u001b[0m \u001b[0;34m[\u001b[0m\u001b[0mCANCELLED\u001b[0m\u001b[0;34m,\u001b[0m \u001b[0mCANCELLED_AND_NOTIFIED\u001b[0m\u001b[0;34m]\u001b[0m\u001b[0;34m:\u001b[0m\u001b[0;34m\u001b[0m\u001b[0m\n",
      "\u001b[0;32m/home/waffpad/anaconda3/envs/antispam/lib/python2.7/threading.pyc\u001b[0m in \u001b[0;36mwait\u001b[0;34m(self, timeout)\u001b[0m\n\u001b[1;32m    338\u001b[0m         \u001b[0;32mtry\u001b[0m\u001b[0;34m:\u001b[0m    \u001b[0;31m# restore state no matter what (e.g., KeyboardInterrupt)\u001b[0m\u001b[0;34m\u001b[0m\u001b[0m\n\u001b[1;32m    339\u001b[0m             \u001b[0;32mif\u001b[0m \u001b[0mtimeout\u001b[0m \u001b[0;32mis\u001b[0m \u001b[0mNone\u001b[0m\u001b[0;34m:\u001b[0m\u001b[0;34m\u001b[0m\u001b[0m\n\u001b[0;32m--> 340\u001b[0;31m                 \u001b[0mwaiter\u001b[0m\u001b[0;34m.\u001b[0m\u001b[0macquire\u001b[0m\u001b[0;34m(\u001b[0m\u001b[0;34m)\u001b[0m\u001b[0;34m\u001b[0m\u001b[0m\n\u001b[0m\u001b[1;32m    341\u001b[0m                 \u001b[0;32mif\u001b[0m \u001b[0m__debug__\u001b[0m\u001b[0;34m:\u001b[0m\u001b[0;34m\u001b[0m\u001b[0m\n\u001b[1;32m    342\u001b[0m                     \u001b[0mself\u001b[0m\u001b[0;34m.\u001b[0m\u001b[0m_note\u001b[0m\u001b[0;34m(\u001b[0m\u001b[0;34m\"%s.wait(): got it\"\u001b[0m\u001b[0;34m,\u001b[0m \u001b[0mself\u001b[0m\u001b[0;34m)\u001b[0m\u001b[0;34m\u001b[0m\u001b[0m\n",
      "\u001b[0;31mKeyboardInterrupt\u001b[0m: "
     ]
    }
   ],
   "source": [
    "%time random_search.fit(X_tr, y_tr)"
   ]
  },
  {
   "cell_type": "code",
   "execution_count": 144,
   "metadata": {},
   "outputs": [
    {
     "data": {
      "text/plain": [
       "0.7120997002681811"
      ]
     },
     "execution_count": 144,
     "metadata": {},
     "output_type": "execute_result"
    }
   ],
   "source": [
    "random_search.best_score_"
   ]
  },
  {
   "cell_type": "code",
   "execution_count": 145,
   "metadata": {},
   "outputs": [
    {
     "data": {
      "text/plain": [
       "0.7005976353091066"
      ]
     },
     "execution_count": 145,
     "metadata": {},
     "output_type": "execute_result"
    }
   ],
   "source": [
    "f1_score(y_pred=random_search.predict(X_te), y_true=y_te, average='macro')"
   ]
  },
  {
   "cell_type": "code",
   "execution_count": null,
   "metadata": {},
   "outputs": [],
   "source": []
  },
  {
   "cell_type": "code",
   "execution_count": null,
   "metadata": {},
   "outputs": [],
   "source": []
  },
  {
   "cell_type": "code",
   "execution_count": 153,
   "metadata": {},
   "outputs": [],
   "source": [
    "from sklearn.tree import DecisionTreeClassifier"
   ]
  },
  {
   "cell_type": "code",
   "execution_count": 154,
   "metadata": {},
   "outputs": [
    {
     "name": "stdout",
     "output_type": "stream",
     "text": [
      "CPU times: user 35.1 ms, sys: 0 ns, total: 35.1 ms\n",
      "Wall time: 34.3 ms\n"
     ]
    },
    {
     "data": {
      "text/plain": [
       "DecisionTreeClassifier(class_weight=None, criterion='gini', max_depth=None,\n",
       "            max_features=None, max_leaf_nodes=None,\n",
       "            min_impurity_decrease=0.0, min_impurity_split=None,\n",
       "            min_samples_leaf=1, min_samples_split=2,\n",
       "            min_weight_fraction_leaf=0.0, presort=False, random_state=None,\n",
       "            splitter='best')"
      ]
     },
     "execution_count": 154,
     "metadata": {},
     "output_type": "execute_result"
    }
   ],
   "source": [
    "clf = DecisionTreeClassifier(min_samples_split=2)\n",
    "%time clf.fit(X_tr, y_tr)"
   ]
  },
  {
   "cell_type": "code",
   "execution_count": 155,
   "metadata": {},
   "outputs": [
    {
     "data": {
      "text/plain": [
       "0.8108747044917257"
      ]
     },
     "execution_count": 155,
     "metadata": {},
     "output_type": "execute_result"
    }
   ],
   "source": [
    "f1_score(y_pred=clf.predict(X_te), y_true=y_te, average='macro')"
   ]
  },
  {
   "cell_type": "code",
   "execution_count": null,
   "metadata": {},
   "outputs": [],
   "source": []
  },
  {
   "cell_type": "code",
   "execution_count": 73,
   "metadata": {},
   "outputs": [
    {
     "name": "stdout",
     "output_type": "stream",
     "text": [
      "CPU times: user 9.62 s, sys: 1.03 s, total: 10.6 s\n",
      "Wall time: 2min 57s\n"
     ]
    }
   ],
   "source": [
    "%%time\n",
    "\n",
    "param_grid = {\n",
    "    \"max_depth\": range(2, 10),\n",
    "    \"min_samples_split\": range(2, 10),\n",
    "    \"criterion\": [\"gini\", \"entropy\"],\n",
    "    \"n_estimators\": range(2, 100, 5)}\n",
    "\n",
    "model = RandomForestClassifier()\n",
    "random_search = RandomizedSearchCV(model, param_grid, cv=5, n_iter=400, n_jobs=-1)\n",
    "random_search.fit(X, y)\n",
    "random_search.best_params_"
   ]
  },
  {
   "cell_type": "code",
   "execution_count": 74,
   "metadata": {},
   "outputs": [
    {
     "data": {
      "text/plain": [
       "{'criterion': 'gini',\n",
       " 'max_depth': 9,\n",
       " 'min_samples_split': 7,\n",
       " 'n_estimators': 57}"
      ]
     },
     "execution_count": 74,
     "metadata": {},
     "output_type": "execute_result"
    }
   ],
   "source": [
    "random_search.best_params_"
   ]
  },
  {
   "cell_type": "code",
   "execution_count": 76,
   "metadata": {},
   "outputs": [],
   "source": [
    "my_pred = random_search.predict(X_test)"
   ]
  },
  {
   "cell_type": "code",
   "execution_count": 158,
   "metadata": {},
   "outputs": [
    {
     "data": {
      "text/plain": [
       "DecisionTreeClassifier(class_weight=None, criterion='gini', max_depth=None,\n",
       "            max_features=None, max_leaf_nodes=None,\n",
       "            min_impurity_decrease=0.0, min_impurity_split=None,\n",
       "            min_samples_leaf=1, min_samples_split=2,\n",
       "            min_weight_fraction_leaf=0.0, presort=False, random_state=None,\n",
       "            splitter='best')"
      ]
     },
     "execution_count": 158,
     "metadata": {},
     "output_type": "execute_result"
    }
   ],
   "source": [
    "clf.fit(X, y)"
   ]
  },
  {
   "cell_type": "code",
   "execution_count": 159,
   "metadata": {},
   "outputs": [
    {
     "name": "stdout",
     "output_type": "stream",
     "text": [
      "[0.15065494 0.10207765 0.05432986 0.30724825 0.20211579 0.1835735 ]\n"
     ]
    }
   ],
   "source": [
    "print(clf.feature_importances_)"
   ]
  },
  {
   "cell_type": "code",
   "execution_count": 160,
   "metadata": {},
   "outputs": [],
   "source": [
    "my_pred = clf.predict(X_test)"
   ]
  },
  {
   "cell_type": "code",
   "execution_count": 161,
   "metadata": {},
   "outputs": [
    {
     "data": {
      "text/plain": [
       "(16039,)"
      ]
     },
     "execution_count": 161,
     "metadata": {},
     "output_type": "execute_result"
    }
   ],
   "source": [
    "my_pred.shape"
   ]
  },
  {
   "cell_type": "code",
   "execution_count": null,
   "metadata": {},
   "outputs": [],
   "source": []
  },
  {
   "cell_type": "code",
   "execution_count": null,
   "metadata": {},
   "outputs": [],
   "source": []
  },
  {
   "cell_type": "code",
   "execution_count": 167,
   "metadata": {},
   "outputs": [],
   "source": [
    "from catboost import CatBoostClassifier"
   ]
  },
  {
   "cell_type": "code",
   "execution_count": 168,
   "metadata": {},
   "outputs": [],
   "source": [
    "model = CatBoostClassifier(iterations=400,\n",
    "                           depth=10,\n",
    "                           learning_rate=0.5,\n",
    "                           loss_function='Logloss',\n",
    "                           verbose=False\n",
    "                          \n",
    "                          )"
   ]
  },
  {
   "cell_type": "code",
   "execution_count": null,
   "metadata": {},
   "outputs": [],
   "source": []
  },
  {
   "cell_type": "code",
   "execution_count": 171,
   "metadata": {},
   "outputs": [],
   "source": [
    "def find_best(train_X, train_y):\n",
    "\n",
    "    max_f1_score = -1 \n",
    "    X_train, X_test, y_train, y_test = train_test_split(train_X, train_y, test_size=0.1, stratify=train_y)\n",
    "    \n",
    "    for lr in range(4, 6, 1):\n",
    "        for dth in range(5, 8, 1):\n",
    "            for epochs in range(100, 1000, 100):\n",
    "                \n",
    "                model = CatBoostClassifier(iterations=epochs,\n",
    "                                           depth=dth,\n",
    "                                           learning_rate=1. * lr / 10.,\n",
    "                                           loss_function='Logloss',\n",
    "                                           verbose=False\n",
    "                                          \n",
    "                                          )\n",
    "                model.fit(X_train, y_train)\n",
    "                y_pred = model.predict(X_test)\n",
    "                score = f1_score(y_test, y_pred)\n",
    "                \n",
    "                if (score > max_f1_score):\n",
    "                    max_f1_score = score\n",
    "                    best_model = model\n",
    "                    print(\"Score: \"+str(max_f1_score))\n",
    "                    print(\"Model Parameters: LR: \"+str(lr)+\"  Dth: \"+str(dth)+\" ITERS: \"+str(epochs)+\"\\n\")\n",
    "        \n",
    "        print(\"\\nNew Learning Rate: \"+ str(1. * lr / 10.)+\"\\n\")\n",
    "                \n",
    "    return best_model"
   ]
  },
  {
   "cell_type": "code",
   "execution_count": 172,
   "metadata": {},
   "outputs": [
    {
     "name": "stdout",
     "output_type": "stream",
     "text": [
      "Score: 0.8757687576875769\n",
      "Model Parameters: LR: 4  Dth: 5 ITERS: 100\n",
      "\n",
      "Score: 0.8848484848484849\n",
      "Model Parameters: LR: 4  Dth: 5 ITERS: 200\n",
      "\n",
      "Score: 0.8935128518971848\n",
      "Model Parameters: LR: 4  Dth: 6 ITERS: 200\n",
      "\n",
      "Score: 0.8950542822677926\n",
      "Model Parameters: LR: 4  Dth: 7 ITERS: 200\n",
      "\n",
      "Score: 0.896719319562576\n",
      "Model Parameters: LR: 4  Dth: 7 ITERS: 900\n",
      "\n",
      "\n",
      "New Learning Rate: 0.4\n",
      "\n",
      "Score: 0.8968058968058967\n",
      "Model Parameters: LR: 5  Dth: 6 ITERS: 200\n",
      "\n",
      "Score: 0.9006134969325154\n",
      "Model Parameters: LR: 5  Dth: 6 ITERS: 300\n",
      "\n",
      "Score: 0.9037758830694276\n",
      "Model Parameters: LR: 5  Dth: 7 ITERS: 500\n",
      "\n",
      "Score: 0.9075425790754258\n",
      "Model Parameters: LR: 5  Dth: 7 ITERS: 600\n",
      "\n",
      "\n",
      "New Learning Rate: 0.5\n",
      "\n"
     ]
    }
   ],
   "source": [
    "best_model = find_best(X, y)"
   ]
  },
  {
   "cell_type": "code",
   "execution_count": 173,
   "metadata": {},
   "outputs": [],
   "source": [
    "def make_predict(model, test_X, test_docs):\n",
    "    \n",
    "    preds = model.predict(test_X)\n",
    "    prediction = []\n",
    "    for p in preds:\n",
    "        prediction.append(int(p))\n",
    "        \n",
    "    with open('my_submission.csv' , 'wb') as fout:\n",
    "        writer = csv.writer(fout)\n",
    "        writer.writerow(['Id','Prediction'])\n",
    "        for i in range(len(test_docs)):\n",
    "            writer.writerow([test_docs[i].doc_id, prediction[i]])\n",
    "        \n",
    "    pass"
   ]
  },
  {
   "cell_type": "code",
   "execution_count": 174,
   "metadata": {},
   "outputs": [],
   "source": [
    "make_predict(best_model, X_test, test_docs)"
   ]
  },
  {
   "cell_type": "code",
   "execution_count": null,
   "metadata": {},
   "outputs": [],
   "source": []
  },
  {
   "cell_type": "code",
   "execution_count": 79,
   "metadata": {},
   "outputs": [],
   "source": [
    "# with open('my_submission.csv' , 'wb') as fout:\n",
    "#     writer = csv.writer(fout)\n",
    "#     writer.writerow(['Id','Prediction'])\n",
    "#     for i,item in enumerate(test_docs):\n",
    "#         prediction =  my_pred[i]\n",
    "#         writer.writerow([i, prediction])"
   ]
  },
  {
   "cell_type": "code",
   "execution_count": null,
   "metadata": {},
   "outputs": [],
   "source": []
  },
  {
   "cell_type": "code",
   "execution_count": 163,
   "metadata": {},
   "outputs": [],
   "source": [
    "res = [['Id', 'Prediction']]\n",
    "with open('my_submission_0.56.csv') as csvfile: \n",
    "    spamreader = csv.reader(csvfile, delimiter=',', quotechar='|')\n",
    "    for i,row in enumerate(spamreader):\n",
    "        row = list(map(int, row))\n",
    "        res.append([row[0], my_pred[i]])"
   ]
  },
  {
   "cell_type": "code",
   "execution_count": 164,
   "metadata": {},
   "outputs": [],
   "source": [
    "with open('my_submission.csv' , 'wb') as fout:\n",
    "    writer = csv.writer(fout)\n",
    "#     writer.writerow(['Id','Prediction'])\n",
    "    for row in res:\n",
    "#         prediction =  my_pred[i]\n",
    "        writer.writerow(row)"
   ]
  },
  {
   "cell_type": "code",
   "execution_count": null,
   "metadata": {},
   "outputs": [],
   "source": []
  },
  {
   "cell_type": "code",
   "execution_count": null,
   "metadata": {},
   "outputs": [],
   "source": []
  },
  {
   "cell_type": "code",
   "execution_count": null,
   "metadata": {},
   "outputs": [],
   "source": []
  },
  {
   "cell_type": "code",
   "execution_count": null,
   "metadata": {},
   "outputs": [],
   "source": []
  },
  {
   "cell_type": "code",
   "execution_count": 566,
   "metadata": {},
   "outputs": [],
   "source": [
    "class Classifier:\n",
    "    \n",
    "    def __init__(self):\n",
    "        pass\n",
    "\n",
    "    def predict(self, doc):        \n",
    "        return doc.features[4]                     \n",
    "    \n",
    "    def predict_all(self, docs):\n",
    "        res = []\n",
    "        for doc_num, doc in enumerate(docs):\n",
    "            trace(doc_num)\n",
    "            prediction = self.predict(doc)            \n",
    "            res.append( (doc.doc_id, doc.is_spam, doc.url, prediction) )\n",
    "        return res\n",
    "    \n",
    "    def train(self, docs):                \n",
    "        for doc_num, doc in enumerate(docs):                            \n",
    "            #TODO вставить код обучения\n",
    "            trace(doc_num)\n",
    "        trace(doc_num, 1)"
   ]
  },
  {
   "cell_type": "code",
   "execution_count": 567,
   "metadata": {
    "scrolled": true
   },
   "outputs": [
    {
     "name": "stderr",
     "output_type": "stream",
     "text": [
      "01:04:24 INFO:Complete items 00000\n",
      "01:04:24 INFO:Complete items 01000\n",
      "01:04:24 INFO:Complete items 02000\n",
      "01:04:24 INFO:Complete items 03000\n",
      "01:04:24 INFO:Complete items 04000\n",
      "01:04:24 INFO:Complete items 05000\n",
      "01:04:24 INFO:Complete items 06000\n",
      "01:04:24 INFO:Complete items 07000\n",
      "01:04:24 INFO:Complete items 07043\n"
     ]
    }
   ],
   "source": [
    "classifier = Classifier()\n",
    "classifier.train(train_docs)"
   ]
  },
  {
   "cell_type": "code",
   "execution_count": 569,
   "metadata": {},
   "outputs": [
    {
     "data": {
      "text/plain": [
       "0.9433962264150944"
      ]
     },
     "execution_count": 569,
     "metadata": {},
     "output_type": "execute_result"
    }
   ],
   "source": [
    "#Посмотреть, что предсказывается для тестового html\n",
    "classifier.predict(DocItem(0, 0, test_url , test_features))"
   ]
  },
  {
   "cell_type": "markdown",
   "metadata": {},
   "source": [
    "** Рисуем графики **"
   ]
  },
  {
   "cell_type": "code",
   "execution_count": 570,
   "metadata": {
    "scrolled": true
   },
   "outputs": [
    {
     "name": "stderr",
     "output_type": "stream",
     "text": [
      "01:04:32 INFO:Complete items 00000\n",
      "01:04:32 INFO:Complete items 01000\n",
      "01:04:32 INFO:Complete items 02000\n",
      "01:04:32 INFO:Complete items 03000\n",
      "01:04:32 INFO:Complete items 04000\n",
      "01:04:32 INFO:Complete items 05000\n",
      "01:04:32 INFO:Complete items 06000\n",
      "01:04:32 INFO:Complete items 07000\n"
     ]
    },
    {
     "name": "stdout",
     "output_type": "stream",
     "text": [
      "threshold 0\n",
      "\tclass_prec 0.583333333333, class_recall 1.0, class_F1 0.736842105263\n",
      "\tnot_class_prec 0.0, not_class_recall 0.0, not_class_F1 0.0\n",
      "\t\tMacroF1Mesure 0.368421052632\n",
      "threshold 100\n",
      "\tclass_prec 0.0, class_recall 0.0, class_F1 0.0\n",
      "\tnot_class_prec 0.416666666667, not_class_recall 1.0, not_class_F1 0.588235294118\n",
      "\t\tMacroF1Mesure 0.294117647059\n",
      "threshold 200\n",
      "\tclass_prec 0.0, class_recall 0.0, class_F1 0.0\n",
      "\tnot_class_prec 0.416666666667, not_class_recall 1.0, not_class_F1 0.588235294118\n",
      "\t\tMacroF1Mesure 0.294117647059\n",
      "threshold 300\n",
      "\tclass_prec 0.0, class_recall 0.0, class_F1 0.0\n",
      "\tnot_class_prec 0.416666666667, not_class_recall 1.0, not_class_F1 0.588235294118\n",
      "\t\tMacroF1Mesure 0.294117647059\n",
      "threshold 400\n",
      "\tclass_prec 0.0, class_recall 0.0, class_F1 0.0\n",
      "\tnot_class_prec 0.416666666667, not_class_recall 1.0, not_class_F1 0.588235294118\n",
      "\t\tMacroF1Mesure 0.294117647059\n",
      "threshold 500\n",
      "\tclass_prec 0.0, class_recall 0.0, class_F1 0.0\n",
      "\tnot_class_prec 0.416666666667, not_class_recall 1.0, not_class_F1 0.588235294118\n",
      "\t\tMacroF1Mesure 0.294117647059\n",
      "threshold 600\n",
      "\tclass_prec 0.0, class_recall 0.0, class_F1 0.0\n",
      "\tnot_class_prec 0.416666666667, not_class_recall 1.0, not_class_F1 0.588235294118\n",
      "\t\tMacroF1Mesure 0.294117647059\n",
      "threshold 700\n",
      "\tclass_prec 0.0, class_recall 0.0, class_F1 0.0\n",
      "\tnot_class_prec 0.416666666667, not_class_recall 1.0, not_class_F1 0.588235294118\n",
      "\t\tMacroF1Mesure 0.294117647059\n",
      "threshold 800\n",
      "\tclass_prec 0.0, class_recall 0.0, class_F1 0.0\n",
      "\tnot_class_prec 0.416666666667, not_class_recall 1.0, not_class_F1 0.588235294118\n",
      "\t\tMacroF1Mesure 0.294117647059\n",
      "threshold 900\n",
      "\tclass_prec 0.0, class_recall 0.0, class_F1 0.0\n",
      "\tnot_class_prec 0.416666666667, not_class_recall 1.0, not_class_F1 0.588235294118\n",
      "\t\tMacroF1Mesure 0.294117647059\n",
      "threshold 1000\n",
      "\tclass_prec 0.0, class_recall 0.0, class_F1 0.0\n",
      "\tnot_class_prec 0.416666666667, not_class_recall 1.0, not_class_F1 0.588235294118\n",
      "\t\tMacroF1Mesure 0.294117647059\n",
      "threshold 1100\n",
      "\tclass_prec 0.0, class_recall 0.0, class_F1 0.0\n",
      "\tnot_class_prec 0.416666666667, not_class_recall 1.0, not_class_F1 0.588235294118\n",
      "\t\tMacroF1Mesure 0.294117647059\n",
      "threshold 1200\n",
      "\tclass_prec 0.0, class_recall 0.0, class_F1 0.0\n",
      "\tnot_class_prec 0.416666666667, not_class_recall 1.0, not_class_F1 0.588235294118\n",
      "\t\tMacroF1Mesure 0.294117647059\n",
      "threshold 1300\n",
      "\tclass_prec 0.0, class_recall 0.0, class_F1 0.0\n",
      "\tnot_class_prec 0.416666666667, not_class_recall 1.0, not_class_F1 0.588235294118\n",
      "\t\tMacroF1Mesure 0.294117647059\n",
      "threshold 1400\n",
      "\tclass_prec 0.0, class_recall 0.0, class_F1 0.0\n",
      "\tnot_class_prec 0.416666666667, not_class_recall 1.0, not_class_F1 0.588235294118\n",
      "\t\tMacroF1Mesure 0.294117647059\n",
      "threshold 1500\n",
      "\tclass_prec 0.0, class_recall 0.0, class_F1 0.0\n",
      "\tnot_class_prec 0.416666666667, not_class_recall 1.0, not_class_F1 0.588235294118\n",
      "\t\tMacroF1Mesure 0.294117647059\n",
      "threshold 1600\n",
      "\tclass_prec 0.0, class_recall 0.0, class_F1 0.0\n",
      "\tnot_class_prec 0.416666666667, not_class_recall 1.0, not_class_F1 0.588235294118\n",
      "\t\tMacroF1Mesure 0.294117647059\n",
      "threshold 1700\n",
      "\tclass_prec 0.0, class_recall 0.0, class_F1 0.0\n",
      "\tnot_class_prec 0.416666666667, not_class_recall 1.0, not_class_F1 0.588235294118\n",
      "\t\tMacroF1Mesure 0.294117647059\n",
      "threshold 1800\n",
      "\tclass_prec 0.0, class_recall 0.0, class_F1 0.0\n",
      "\tnot_class_prec 0.416666666667, not_class_recall 1.0, not_class_F1 0.588235294118\n",
      "\t\tMacroF1Mesure 0.294117647059\n",
      "threshold 1900\n",
      "\tclass_prec 0.0, class_recall 0.0, class_F1 0.0\n",
      "\tnot_class_prec 0.416666666667, not_class_recall 1.0, not_class_F1 0.588235294118\n",
      "\t\tMacroF1Mesure 0.294117647059\n",
      "threshold 2000\n",
      "\tclass_prec 0.0, class_recall 0.0, class_F1 0.0\n",
      "\tnot_class_prec 0.416666666667, not_class_recall 1.0, not_class_F1 0.588235294118\n",
      "\t\tMacroF1Mesure 0.294117647059\n",
      "threshold 2100\n",
      "\tclass_prec 0.0, class_recall 0.0, class_F1 0.0\n",
      "\tnot_class_prec 0.416666666667, not_class_recall 1.0, not_class_F1 0.588235294118\n",
      "\t\tMacroF1Mesure 0.294117647059\n",
      "threshold 2200\n",
      "\tclass_prec 0.0, class_recall 0.0, class_F1 0.0\n",
      "\tnot_class_prec 0.416666666667, not_class_recall 1.0, not_class_F1 0.588235294118\n",
      "\t\tMacroF1Mesure 0.294117647059\n",
      "threshold 2300\n",
      "\tclass_prec 0.0, class_recall 0.0, class_F1 0.0\n",
      "\tnot_class_prec 0.416666666667, not_class_recall 1.0, not_class_F1 0.588235294118\n",
      "\t\tMacroF1Mesure 0.294117647059\n",
      "threshold 2400\n",
      "\tclass_prec 0.0, class_recall 0.0, class_F1 0.0\n",
      "\tnot_class_prec 0.416666666667, not_class_recall 1.0, not_class_F1 0.588235294118\n",
      "\t\tMacroF1Mesure 0.294117647059\n",
      "threshold 2500\n",
      "\tclass_prec 0.0, class_recall 0.0, class_F1 0.0\n",
      "\tnot_class_prec 0.416666666667, not_class_recall 1.0, not_class_F1 0.588235294118\n",
      "\t\tMacroF1Mesure 0.294117647059\n",
      "threshold 2600\n",
      "\tclass_prec 0.0, class_recall 0.0, class_F1 0.0\n",
      "\tnot_class_prec 0.416666666667, not_class_recall 1.0, not_class_F1 0.588235294118\n",
      "\t\tMacroF1Mesure 0.294117647059\n",
      "threshold 2700\n",
      "\tclass_prec 0.0, class_recall 0.0, class_F1 0.0\n",
      "\tnot_class_prec 0.416666666667, not_class_recall 1.0, not_class_F1 0.588235294118\n",
      "\t\tMacroF1Mesure 0.294117647059\n",
      "threshold 2800\n",
      "\tclass_prec 0.0, class_recall 0.0, class_F1 0.0\n",
      "\tnot_class_prec 0.416666666667, not_class_recall 1.0, not_class_F1 0.588235294118\n",
      "\t\tMacroF1Mesure 0.294117647059\n",
      "threshold 2900\n",
      "\tclass_prec 0.0, class_recall 0.0, class_F1 0.0\n",
      "\tnot_class_prec 0.416666666667, not_class_recall 1.0, not_class_F1 0.588235294118\n",
      "\t\tMacroF1Mesure 0.294117647059\n",
      "threshold 3000\n",
      "\tclass_prec 0.0, class_recall 0.0, class_F1 0.0\n",
      "\tnot_class_prec 0.416666666667, not_class_recall 1.0, not_class_F1 0.588235294118\n",
      "\t\tMacroF1Mesure 0.294117647059\n"
     ]
    },
    {
     "data": {
      "image/png": "[encoded data removed]",
      "text/plain": [
       "<Figure size 720x360 with 1 Axes>"
      ]
     },
     "metadata": {
      "needs_background": "light"
     },
     "output_type": "display_data"
    },
    {
     "data": {
      "image/png": "[encoded data removed]",
      "text/plain": [
       "<Figure size 720x360 with 1 Axes>"
      ]
     },
     "metadata": {
      "needs_background": "light"
     },
     "output_type": "display_data"
    }
   ],
   "source": [
    "plot_results(train_docs, min_threshold=0, max_threshold=3000, step=100, trace=1)"
   ]
  },
  {
   "cell_type": "code",
   "execution_count": 86,
   "metadata": {},
   "outputs": [
    {
     "name": "stderr",
     "output_type": "stream",
     "text": [
      "15:23:01 INFO:Complete items 00000 in worker_id 0\n",
      "15:23:01 INFO:Complete items 00000 in worker_id 1\n",
      "15:23:01 INFO:Complete items 00000 in worker_id 2\n",
      "15:23:01 INFO:Complete items 00000\n",
      "15:23:01 INFO:Complete items 00000 in worker_id 3\n",
      "15:23:06 INFO:Complete items 01000 in worker_id 2\n",
      "15:23:07 INFO:Complete items 01000 in worker_id 1\n",
      "15:23:07 INFO:Complete items 01000\n",
      "15:23:09 INFO:Complete items 01000 in worker_id 3\n",
      "15:23:10 INFO:Complete items 01000 in worker_id 0\n",
      "15:23:12 INFO:Complete items 02000 in worker_id 2\n",
      "15:23:12 INFO:Complete items 02000 in worker_id 1\n",
      "15:23:15 INFO:Complete items 02000\n",
      "15:23:17 INFO:Complete items 02000 in worker_id 0\n",
      "15:23:17 INFO:Complete items 02000 in worker_id 3\n",
      "15:23:19 INFO:Complete items 03000 in worker_id 2\n",
      "15:23:19 INFO:Complete items 03000 in worker_id 1\n",
      "15:23:21 INFO:Complete items 03000\n",
      "15:23:23 INFO:Complete items 03000 in worker_id 3\n",
      "15:23:24 INFO:Complete items 03000 in worker_id 0\n",
      "15:23:24 INFO:Complete items 04000 in worker_id 2\n",
      "15:23:25 INFO:Complete items 04000 in worker_id 1\n",
      "15:23:28 INFO:Complete items 04000\n",
      "15:23:29 INFO:Complete items 05000 in worker_id 2\n",
      "15:23:30 INFO:Complete items 04000 in worker_id 0\n",
      "15:23:30 INFO:Complete items 04000 in worker_id 3\n",
      "15:23:31 INFO:Complete items 05000 in worker_id 1\n",
      "15:23:33 INFO:Complete items 05000\n",
      "15:23:34 INFO:Complete items 06000 in worker_id 2\n",
      "15:23:35 INFO:Complete items 05000 in worker_id 0\n",
      "15:23:35 INFO:Complete items 05000 in worker_id 3\n",
      "15:23:39 INFO:Complete items 06000\n",
      "15:23:40 INFO:Complete items 07000 in worker_id 2\n",
      "15:23:41 INFO:Complete items 06000 in worker_id 1\n",
      "15:23:41 INFO:Complete items 06000 in worker_id 0\n",
      "15:23:42 INFO:Complete items 06000 in worker_id 3\n",
      "15:23:45 INFO:Complete items 08000 in worker_id 2\n",
      "15:23:45 INFO:Complete items 07000\n",
      "15:23:46 INFO:Complete items 07000 in worker_id 1\n",
      "15:23:47 INFO:Complete items 07000 in worker_id 0\n",
      "15:23:48 INFO:Complete items 07000 in worker_id 3\n",
      "15:23:50 INFO:Complete items 09000 in worker_id 2\n",
      "15:23:52 INFO:Complete items 08000\n",
      "15:23:53 INFO:Complete items 08000 in worker_id 1\n",
      "15:23:54 INFO:Complete items 08000 in worker_id 0\n",
      "15:23:54 INFO:Complete items 08000 in worker_id 3\n",
      "15:23:57 INFO:Complete items 10000 in worker_id 2\n",
      "15:23:57 INFO:Complete items 09000\n",
      "15:23:59 INFO:Complete items 09000 in worker_id 1\n",
      "15:24:00 INFO:Complete items 09000 in worker_id 3\n",
      "15:24:01 INFO:Complete items 09000 in worker_id 0\n",
      "15:24:03 INFO:Complete items 11000 in worker_id 2\n",
      "15:24:06 INFO:Complete items 10000\n",
      "15:24:06 INFO:Complete items 10000 in worker_id 1\n",
      "15:24:08 INFO:Complete items 10000 in worker_id 0\n",
      "15:24:11 INFO:Complete items 12000 in worker_id 2\n",
      "15:24:11 INFO:Complete items 11000 in worker_id 1\n",
      "15:24:11 INFO:Complete items 10000 in worker_id 3\n",
      "15:24:12 INFO:Complete items 11000\n",
      "15:24:14 INFO:Complete items 11000 in worker_id 0\n",
      "15:24:16 INFO:Complete items 11000 in worker_id 3\n",
      "15:24:18 INFO:Complete items 13000 in worker_id 2\n",
      "15:24:18 INFO:Complete items 12000 in worker_id 1\n",
      "15:24:18 INFO:Complete items 12000\n",
      "15:24:20 INFO:Complete items 12000 in worker_id 0\n",
      "15:24:22 INFO:Complete items 12000 in worker_id 3\n",
      "15:24:22 INFO:Complete items 13000 in worker_id 1\n",
      "15:24:23 INFO:Complete items 13000\n",
      "15:24:25 INFO:Complete items 13000 in worker_id 0\n",
      "15:24:26 INFO:Complete items 14000 in worker_id 2\n",
      "15:24:27 INFO:Complete items 13000 in worker_id 3\n",
      "15:24:29 INFO:Complete items 14000 in worker_id 1\n",
      "15:24:30 INFO:Complete items 14000\n",
      "15:24:31 INFO:Complete items 14000 in worker_id 0\n",
      "15:24:32 INFO:Complete items 15000 in worker_id 2\n",
      "15:24:33 INFO:Complete items 14000 in worker_id 3\n",
      "15:24:34 INFO:Complete items 15000 in worker_id 1\n",
      "15:24:37 INFO:Complete items 15000\n",
      "15:24:38 INFO:Complete items 15000 in worker_id 0\n",
      "15:24:39 INFO:Complete items 15000 in worker_id 3\n",
      "15:24:41 INFO:Complete items 16000 in worker_id 2\n",
      "15:24:41 INFO:Complete items 16038 in worker_id 2\n",
      "15:24:41 INFO:Complete items 16000 in worker_id 1\n",
      "15:24:41 INFO:Complete items 16038 in worker_id 1\n",
      "15:24:43 INFO:Complete items 16000 in worker_id 0\n",
      "15:24:43 INFO:Complete items 16038 in worker_id 0\n",
      "15:24:45 INFO:Complete items 16000\n",
      "15:24:45 INFO:Complete items 16000 in worker_id 3\n",
      "15:24:46 INFO:Complete items 16038 in worker_id 3\n"
     ]
    },
    {
     "name": "stdout",
     "output_type": "stream",
     "text": [
      "CPU times: user 686 ms, sys: 167 ms, total: 853 ms\n",
      "Wall time: 1min 45s\n"
     ]
    }
   ],
   "source": [
    "%%time\n",
    "\n",
    "TEST_DATA_FILE  = 'kaggle/kaggle_test_data_tab.csv.gz'\n",
    "# TEST_DATA_FILE  = 'kaggle/kaggle_train_data_tab_300.csv.gz'\n",
    "\n",
    "test_docs = load_csv_multiprocess(TEST_DATA_FILE, calc_features)\n",
    "\n",
    "threshold = 0.28\n",
    "\n",
    "with open('my_submission.csv' , 'wb') as fout:\n",
    "    writer = csv.writer(fout)\n",
    "    writer.writerow(['Id','Prediction'])\n",
    "    for item in classifier.predict_all(test_docs):\n",
    "        prediction =  1 if item[3] > threshold else 0\n",
    "        writer.writerow([item[0], prediction])"
   ]
  },
  {
   "cell_type": "code",
   "execution_count": null,
   "metadata": {},
   "outputs": [],
   "source": []
  }
 ],
 "metadata": {
  "anaconda-cloud": {},
  "kernelspec": {
   "display_name": "Python 2",
   "language": "python",
   "name": "python2"
  },
  "language_info": {
   "codemirror_mode": {
    "name": "ipython",
    "version": 2
   },
   "file_extension": ".py",
   "mimetype": "text/x-python",
   "name": "python",
   "nbconvert_exporter": "python",
   "pygments_lexer": "ipython2",
   "version": "2.7.16"
  }
 },
 "nbformat": 4,
 "nbformat_minor": 1
}
