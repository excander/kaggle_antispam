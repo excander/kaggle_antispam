{
 "cells": [
  {
   "cell_type": "markdown",
   "metadata": {},
   "source": [
    "# ** Описание **"
   ]
  },
  {
   "cell_type": "raw",
   "metadata": {},
   "source": [
    "Построить графики распределения в спам и не спам множествах следующих признаков:\n",
    "\n",
    "1\tКоличество слов на странице\n",
    "2\tСредняя длинна слова\n",
    "3\tКоличество слов в заголовке страниц (слова в теге <html><head><title> Some text </title>)\n",
    "4\tКоличество слов в анкорах ссылок (<html><body><a> Some text </a>)\n",
    "5\tКоэффициент сжатия\n",
    "\n",
    "Нужно посчитать статистику минимум по трем признакам и обязательно сделать для 1-го и 2-го признаков\n",
    "\n",
    "И отправить первое решение в соревнование https://kaggle.com/join/antispam_infopoisk\n",
    "На основании одного из указанных выше признаков попытаться разделить мн-во, так чтобы score в соревновании был больше 0.55\n",
    "\n",
    "При выполнении всех этих условия в течении семинара +1 балл к ДЗ\n",
    "\n",
    "Описание ДЗ и правил выставления за него баллов в https://inclass.kaggle.com/c/antispam-infopoisk  \n",
    "Сроки ДЗ уточнить у преподователя - обычно 2 недели"
   ]
  },
  {
   "cell_type": "code",
   "execution_count": 10,
   "metadata": {},
   "outputs": [],
   "source": [
    "from __future__ import division\n",
    "\n",
    "import base64\n",
    "import csv\n",
    "import gzip\n",
    "import zlib\n",
    "\n",
    "from collections import namedtuple\n",
    "\n",
    "%matplotlib inline\n",
    "import matplotlib.pyplot as plt"
   ]
  },
  {
   "cell_type": "code",
   "execution_count": 11,
   "metadata": {},
   "outputs": [],
   "source": [
    "TRACE_NUM = 1000\n",
    "import logging\n",
    "reload(logging)\n",
    "logging.basicConfig(format='%(asctime)s %(levelname)s:%(message)s', level=logging.INFO, datefmt='%H:%M:%S')\n",
    "\n",
    "def trace(items_num, trace_num=TRACE_NUM):\n",
    "    if items_num % trace_num == 0: logging.info(\"Complete items %05d\" % items_num)\n",
    "        \n",
    "def trace_worker(items_num, worker_id, trace_num=TRACE_NUM):\n",
    "    if items_num % trace_num == 0: logging.info(\"Complete items %05d in worker_id %d\" % (items_num, worker_id))"
   ]
  },
  {
   "cell_type": "markdown",
   "metadata": {},
   "source": [
    "### Утилиты"
   ]
  },
  {
   "cell_type": "markdown",
   "metadata": {},
   "source": [
    "#### Декораторы"
   ]
  },
  {
   "cell_type": "code",
   "execution_count": 12,
   "metadata": {},
   "outputs": [],
   "source": [
    "def to_utf8(text):\n",
    "    if isinstance(text, unicode): text = text.encode('utf8')\n",
    "    return text\n",
    "\n",
    "def convert2unicode(f):\n",
    "    def tmp(text):\n",
    "        if not isinstance(text, unicode): text = text.decode('utf8')\n",
    "        return f(text)\n",
    "    return tmp\n",
    "\n",
    "def convert2lower(f):\n",
    "    def tmp(text):        \n",
    "        return f(text.lower())\n",
    "    return tmp\n",
    "\n",
    "#P.S. Декораторы могут усложнять отладку, так что от них вполне можно отказаться и воспользоваться copy-paste"
   ]
  },
  {
   "cell_type": "markdown",
   "metadata": {},
   "source": [
    "### Извлечение текста из html"
   ]
  },
  {
   "cell_type": "markdown",
   "metadata": {},
   "source": [
    "#### Извлечение текста при помощи встроенных модулей"
   ]
  },
  {
   "cell_type": "code",
   "execution_count": 13,
   "metadata": {},
   "outputs": [],
   "source": [
    "from HTMLParser import HTMLParser\n",
    "import re\n",
    "\n",
    "###Извлечение текста из title можно вписать сюда\n",
    "\n",
    "class TextHTMLParser(HTMLParser):\n",
    "    def __init__(self):\n",
    "        HTMLParser.__init__(self)\n",
    "        self._text = []\n",
    "        self._title = \"\"\n",
    "        self._in_title = False\n",
    "\n",
    "    def handle_data(self, data):\n",
    "        text = data.strip()\n",
    "        if len(text) > 0:\n",
    "            text = re.sub('[ \\t\\r\\n]+', ' ', text)\n",
    "            self._text.append(text + ' ')\n",
    "\n",
    "    def handle_starttag(self, tag, attrs):\n",
    "        if tag == 'p':\n",
    "            self._text.append('\\n\\n')\n",
    "        elif tag == 'br':\n",
    "            self._text.append('\\n')\n",
    "        elif tag == 'title':\n",
    "            self._in_title = True\n",
    "\n",
    "    def handle_startendtag(self, tag, attrs):\n",
    "        if tag == 'br':\n",
    "            self._text.append('\\n\\n')\n",
    "\n",
    "    def text(self):\n",
    "        return ''.join(self._text).strip()\n",
    "\n",
    "@convert2unicode\n",
    "def html2text_parser(text):\n",
    "    parser = TextHTMLParser()\n",
    "    parser.feed(text)\n",
    "    return parser.text()"
   ]
  },
  {
   "cell_type": "markdown",
   "metadata": {},
   "source": [
    "#### Извлечение текста при помощи дополнительных библиотек"
   ]
  },
  {
   "cell_type": "code",
   "execution_count": 14,
   "metadata": {},
   "outputs": [],
   "source": [
    "def html2text_bs(raw_html):\n",
    "    from bs4 import BeautifulSoup\n",
    "    \"\"\"\n",
    "    Тут производится извлечения из html текста\n",
    "    \"\"\"\n",
    "    soup = BeautifulSoup(raw_html, \"html.parser\")\n",
    "    [s.extract() for s in soup(['script', 'style'])]\n",
    "    return soup.get_text()\n",
    "\n",
    "def html2text_bs_visible(raw_html):\n",
    "    from bs4 import BeautifulSoup\n",
    "    \"\"\"\n",
    "    Тут производится извлечения из html текста, который видим пользователю\n",
    "    \"\"\"\n",
    "    soup = BeautifulSoup(raw_html, \"html.parser\")    \n",
    "    [s.extract() for s in soup(['style', 'script', '[document]', 'head', 'title'])]\n",
    "    return soup.get_text()\n",
    "\n",
    "def html2text_boilerpipe(raw_html):\n",
    "    import boilerpipe\n",
    "    \"\"\"\n",
    "    еще одна библиотека очень хорошо извлекающая именно видимый пользователю текст,\n",
    "    но она завязана на java\n",
    "    \"\"\"\n",
    "    pass"
   ]
  },
  {
   "cell_type": "markdown",
   "metadata": {},
   "source": [
    "#### Выбираем какой метод для конвертации html в текст будет основным"
   ]
  },
  {
   "cell_type": "code",
   "execution_count": 15,
   "metadata": {},
   "outputs": [],
   "source": [
    "#html2text = html2text_bs\n",
    "html2text = html2text_parser"
   ]
  },
  {
   "cell_type": "markdown",
   "metadata": {},
   "source": [
    "#### Методы для токенизации текста"
   ]
  },
  {
   "cell_type": "code",
   "execution_count": 16,
   "metadata": {},
   "outputs": [],
   "source": [
    "@convert2lower\n",
    "@convert2unicode\n",
    "def easy_tokenizer(text):\n",
    "    word = unicode()\n",
    "    for symbol in text:\n",
    "        if symbol.isalnum(): word += symbol\n",
    "        elif word:\n",
    "            yield word\n",
    "            word = unicode()\n",
    "    if word: yield word\n",
    "\n",
    "PYMORPHY_CACHE = {}\n",
    "MORPH = None\n",
    "#hint, чтобы установка pymorphy2 не была бы обязательной\n",
    "def get_lemmatizer():\n",
    "    import pymorphy2\n",
    "    global MORPH\n",
    "    if MORPH is None: MORPH = pymorphy2.MorphAnalyzer()\n",
    "    return MORPH\n",
    "\n",
    "@convert2lower\n",
    "@convert2unicode\n",
    "def pymorphy_tokenizer(text):\n",
    "    global PYMORPHY_CACHE\n",
    "    for word in easy_tokenizer(text):\n",
    "        word_hash = hash(word)\n",
    "        if word_hash not in PYMORPHY_CACHE:\n",
    "            PYMORPHY_CACHE[word_hash] = get_lemmatizer().parse(word)[0].normal_form            \n",
    "        yield PYMORPHY_CACHE[word_hash]"
   ]
  },
  {
   "cell_type": "markdown",
   "metadata": {},
   "source": [
    "#### Основная функция, которая вызывается для преобразования html в список слов"
   ]
  },
  {
   "cell_type": "code",
   "execution_count": 17,
   "metadata": {},
   "outputs": [],
   "source": [
    "def html2word(raw_html, to_text=html2text, tokenizer=easy_tokenizer):\n",
    "    return tokenizer(to_text(raw_html).lower())"
   ]
  },
  {
   "cell_type": "markdown",
   "metadata": {},
   "source": [
    "#### Рассчет финальных метрик"
   ]
  },
  {
   "cell_type": "code",
   "execution_count": 18,
   "metadata": {},
   "outputs": [],
   "source": [
    "def safe_divide(a, b):\n",
    "    if a == 0: return 0.0\n",
    "    elif b == 0: return 0.0\n",
    "    else: return a/b\n",
    "\n",
    "def calculate_metrics(predictions, threshold):    \n",
    "    \"\"\"\n",
    "    Функция подсчета метрик\n",
    "    Параметры\n",
    "    predictions - ранки по документам\n",
    "    threshold  - порог для метрик\n",
    "    \"\"\"\n",
    "    true_positive = 0\n",
    "    false_positive = 0\n",
    "    true_negative = 0\n",
    "    false_negative = 0\n",
    "    for (url_id, mark, url, prediction) in predictions:        \n",
    "        mark_predict = prediction > threshold\n",
    "\n",
    "        if mark_predict:                     \n",
    "            if mark_predict == mark: true_positive += 1\n",
    "            else: false_positive += 1                    \n",
    "        else:                     \n",
    "            if  mark_predict == mark: true_negative += 1\n",
    "            else: false_negative += 1\n",
    "\n",
    "    class_prec  = safe_divide(true_positive, true_positive + false_positive)\n",
    "    class_recall = safe_divide(true_positive, true_positive + false_negative)\n",
    "        \n",
    "    class_F1 = safe_divide(2 * class_prec * class_recall, class_prec + class_recall)\n",
    "    \n",
    "    \n",
    "    not_class_prec = safe_divide(true_negative, true_negative + false_negative)\n",
    "    not_class_recall = safe_divide(true_negative, true_negative + false_positive)\n",
    "    \n",
    "    not_class_F1 = safe_divide(2 * not_class_prec * not_class_recall, not_class_prec + not_class_recall)\n",
    "    \n",
    "    return ( (class_prec, class_recall, class_F1), (not_class_prec, not_class_recall, not_class_F1) )\n",
    "\n",
    "def arange(start, stop, step):\n",
    "    cur_value = start\n",
    "    while True:\n",
    "        if cur_value > stop: break\n",
    "        yield cur_value\n",
    "        cur_value += step\n",
    "\n",
    "def plot_results(docs, min_threshold=-1, max_threshold=1, step=0.1, trace=False):\n",
    "    x = []\n",
    "    y_p = []\n",
    "    y_n = []\n",
    "    docs_predictions = classifier.predict_all(docs)\n",
    "    for threshold in arange(min_threshold, max_threshold, step):\n",
    "        r = calculate_metrics(docs_predictions, threshold)\n",
    "        x.append(threshold)\n",
    "        y_p.append(r[0])\n",
    "        y_n.append(r[1])        \n",
    "        if trace: \n",
    "            print 'threshold %s' % threshold\n",
    "            print '\\tclass_prec %s, class_recall %s, class_F1 %s' % r[0]\n",
    "            print '\\tnot_class_prec %s, not_class_recall %s, not_class_F1 %s' % r[1]\n",
    "            print '\\t\\tMacroF1Mesure %s' % ((r[0][2] + r[1][2])/2)\n",
    "    plot_stats(x, y_p, \"Class Result\")\n",
    "    plot_stats(x, y_n, \"Not class Result\")    \n",
    "\n",
    "\n",
    "def plot_stats(x, y, title):\n",
    "    plt.figure(figsize=(10, 5))\n",
    "\n",
    "    prec, = plt.plot( x, \n",
    "                     [k[0] for k in y], \"r\", label='Precision', \n",
    "                     linewidth=1)\n",
    "    accur, = plt.plot( x, \n",
    "                      [k[1] for k in y], \"b\", label='Recall',\n",
    "                      linewidth=1)\n",
    "    f1, =    plt.plot( x, \n",
    "                      [k[2] for k in y], \"g\", label='F1',\n",
    "                      linewidth=1)\n",
    "    plt.grid(True)\n",
    "    plt.legend(handles=[prec, accur, f1])\n",
    "    plt.title(title)\n",
    "    plt.show()"
   ]
  },
  {
   "cell_type": "code",
   "execution_count": 93,
   "metadata": {},
   "outputs": [],
   "source": [
    "def calc_features(url, html_data):\n",
    "    words = list(html2word(html_data))\n",
    "    words_num = len(words)\n",
    "    avg_word_len = 0\n",
    "    title_words_num = 0    \n",
    "    anchor_words_num = 0\n",
    "#     compression_level_1 = len(\"\".join(words).encode(\"utf8\").encode(\"zlib\")) / len(\"\".join(words).encode(\"utf8\"))\n",
    "#     text = html2text(html_data).encode(\"utf8\")\n",
    "    compression_level = len(zlib.compress(html_data)) / len(html_data)\n",
    "                            \n",
    "    return [len(words), avg_word_len, title_words_num, anchor_words_num, compression_level]"
   ]
  },
  {
   "cell_type": "code",
   "execution_count": 95,
   "metadata": {},
   "outputs": [
    {
     "name": "stdout",
     "output_type": "stream",
     "text": [
      "[6, 0, 0, 0, 0.9726027397260274]\n"
     ]
    }
   ],
   "source": [
    "test_html_data = '''\n",
    "<html>\n",
    "<title> Заголовок Ololo </title>\n",
    "спам 1 2 3\n",
    "</html>\n",
    "'''\n",
    "test_url = 'http://ololo'\n",
    "test_features = calc_features(test_url, test_html_data)\n",
    "print test_features"
   ]
  },
  {
   "cell_type": "code",
   "execution_count": 53,
   "metadata": {},
   "outputs": [],
   "source": [
    "from multiprocessing import Process, Queue\n",
    "\n",
    "DocItem = namedtuple('DocItem', ['doc_id', 'is_spam', 'url', 'features'])\n",
    "\n",
    "WORKER_NUM = 4\n",
    "\n",
    "def load_csv(input_file_name, calc_features_f):    \n",
    "    \"\"\"\n",
    "    Загружаем данные и извлекаем на лету признаки\n",
    "    Сам контент не сохраняется, чтобы уменьшить потребление памяти - чтобы\n",
    "    можно было запускать даже на ноутбуках в классе\n",
    "    \"\"\"\n",
    "    \n",
    "    with gzip.open(input_file_name) if input_file_name.endswith('gz') else open(input_file_name)  as input_file:            \n",
    "        headers = input_file.readline()\n",
    "        \n",
    "        for i, line in enumerate(input_file):\n",
    "            trace(i)\n",
    "            parts = line.strip().split('\\t')\n",
    "            url_id = int(parts[0])                                        \n",
    "            mark = bool(int(parts[1]))                    \n",
    "            url = parts[2]\n",
    "            pageInb64 = parts[3]\n",
    "            html_data = base64.b64decode(pageInb64)\n",
    "            features = calc_features_f(url, html_data)            \n",
    "            yield DocItem(url_id, mark, url, features)            \n",
    "                \n",
    "        trace(i, 1)  \n",
    "        \n",
    "def load_csv_worker(input_file_name, calc_features_f, worker_id, res_queue):    \n",
    "    with gzip.open(input_file_name) if input_file_name.endswith('gz') else open(input_file_name)  as input_file:            \n",
    "        headers = input_file.readline()\n",
    "        \n",
    "        for i, line in enumerate(input_file):\n",
    "            trace_worker(i, worker_id)\n",
    "            if i % WORKER_NUM != worker_id: continue\n",
    "            parts = line.strip().split('\\t')\n",
    "            url_id = int(parts[0])                                        \n",
    "            mark = bool(int(parts[1]))                    \n",
    "            url = parts[2]\n",
    "            pageInb64 = parts[3]\n",
    "            html_data = base64.b64decode(pageInb64)\n",
    "            features = calc_features_f(url, html_data)            \n",
    "            res_queue.put(DocItem(url_id, mark, url, features))\n",
    "                \n",
    "        trace_worker(i, worker_id, 1)  \n",
    "    res_queue.put(None)\n",
    "        \n",
    "def load_csv_multiprocess(input_file_name, calc_features_f):\n",
    "    processes = []\n",
    "    res_queue = Queue()    \n",
    "    for i in xrange(WORKER_NUM):\n",
    "        process = Process(target=load_csv_worker, args=(input_file_name, calc_features_f, i, res_queue))\n",
    "        processes.append(process)\n",
    "        process.start()\n",
    "    \n",
    "    complete_workers = 0\n",
    "    while complete_workers != WORKER_NUM:\n",
    "        item = res_queue.get()\n",
    "        if item is None:\n",
    "            complete_workers += 1\n",
    "        else:\n",
    "            yield item\n",
    "        \n",
    "    for process in processes: process.join()"
   ]
  },
  {
   "cell_type": "markdown",
   "metadata": {},
   "source": [
    "** Обрабатываем входной файл **\n",
    "<br>\n",
    "Формат - поля разделенные табуляциями\n",
    "<br>\n",
    "0 - идентификатор документа\n",
    "<br>\n",
    "1 - метка класса 0 - не спам, 1 - спам\n",
    "<br>\n",
    "2 - урл документа\n",
    "<br>\n",
    "3 - документ в кодировке base64\n",
    "\n",
    "Выходной формат - массив кортежей вида\n",
    "(doc_id, is_spam, url, html_data)"
   ]
  },
  {
   "cell_type": "code",
   "execution_count": 54,
   "metadata": {
    "scrolled": false
   },
   "outputs": [
    {
     "name": "stderr",
     "output_type": "stream",
     "text": [
      "15:13:11 INFO:Complete items 00000 in worker_id 0\n",
      "15:13:11 INFO:Complete items 00000 in worker_id 1\n",
      "15:13:11 INFO:Complete items 00000 in worker_id 2\n",
      "15:13:11 INFO:Complete items 00000 in worker_id 3\n",
      "15:13:15 INFO:Complete items 01000 in worker_id 2\n",
      "15:13:15 INFO:Complete items 01000 in worker_id 0\n",
      "15:13:16 INFO:Complete items 01000 in worker_id 3\n",
      "15:13:16 INFO:Complete items 01000 in worker_id 1\n",
      "15:13:20 INFO:Complete items 02000 in worker_id 0\n",
      "15:13:20 INFO:Complete items 02000 in worker_id 2\n",
      "15:13:20 INFO:Complete items 02000 in worker_id 3\n",
      "15:13:21 INFO:Complete items 02000 in worker_id 1\n",
      "15:13:25 INFO:Complete items 03000 in worker_id 0\n",
      "15:13:25 INFO:Complete items 03000 in worker_id 3\n",
      "15:13:25 INFO:Complete items 03000 in worker_id 1\n",
      "15:13:26 INFO:Complete items 03000 in worker_id 2\n",
      "15:13:30 INFO:Complete items 04000 in worker_id 0\n",
      "15:13:31 INFO:Complete items 04000 in worker_id 3\n",
      "15:13:31 INFO:Complete items 04000 in worker_id 1\n",
      "15:13:31 INFO:Complete items 04000 in worker_id 2\n",
      "15:13:36 INFO:Complete items 05000 in worker_id 0\n",
      "15:13:36 INFO:Complete items 05000 in worker_id 2\n",
      "15:13:37 INFO:Complete items 05000 in worker_id 1\n",
      "15:13:38 INFO:Complete items 05000 in worker_id 3\n",
      "15:13:41 INFO:Complete items 06000 in worker_id 2\n",
      "15:13:41 INFO:Complete items 06000 in worker_id 0\n",
      "15:13:43 INFO:Complete items 06000 in worker_id 1\n",
      "15:13:43 INFO:Complete items 06000 in worker_id 3\n",
      "15:13:47 INFO:Complete items 07000 in worker_id 0\n",
      "15:13:47 INFO:Complete items 07043 in worker_id 0\n",
      "15:13:47 INFO:Complete items 07000 in worker_id 2\n",
      "15:13:47 INFO:Complete items 07043 in worker_id 2\n",
      "15:13:49 INFO:Complete items 07000 in worker_id 1\n",
      "15:13:49 INFO:Complete items 07043 in worker_id 1\n",
      "15:13:50 INFO:Complete items 07000 in worker_id 3\n",
      "15:13:50 INFO:Complete items 07043 in worker_id 3\n"
     ]
    },
    {
     "name": "stdout",
     "output_type": "stream",
     "text": [
      "CPU times: user 233 ms, sys: 75.1 ms, total: 308 ms\n",
      "Wall time: 39.6 s\n"
     ]
    }
   ],
   "source": [
    "%%time\n",
    "\n",
    "TRAIN_DATA_FILE  = 'kaggle/kaggle_train_data_tab.csv.gz'\n",
    "# TRAIN_DATA_FILE  = 'kaggle/kaggle_train_data_tab_300.csv.gz'\n",
    "\n",
    "train_docs = list(load_csv_multiprocess(TRAIN_DATA_FILE, calc_features))"
   ]
  },
  {
   "cell_type": "code",
   "execution_count": 55,
   "metadata": {},
   "outputs": [
    {
     "data": {
      "text/plain": [
       "7044"
      ]
     },
     "execution_count": 55,
     "metadata": {},
     "output_type": "execute_result"
    }
   ],
   "source": [
    "len(train_docs)"
   ]
  },
  {
   "cell_type": "code",
   "execution_count": 56,
   "metadata": {},
   "outputs": [
    {
     "data": {
      "image/png": "[encoded data removed]",
      "text/plain": [
       "<Figure size 432x288 with 1 Axes>"
      ]
     },
     "metadata": {
      "needs_background": "light"
     },
     "output_type": "display_data"
    }
   ],
   "source": [
    "is_spam_data = [doc.features[0] for doc in train_docs if doc[1] == True]\n",
    "not_spam_data = [doc.features[0] for doc in train_docs if doc[1] == False]\n",
    "bins = range(1, 3000, 10)\n",
    "plt.hist(is_spam_data, bins=bins, color='red', normed=True, alpha=0.7, label='spam')\n",
    "plt.hist(not_spam_data, bins=bins, color='blue', normed=True, alpha=0.7, label='not_spam')\n",
    "plt.axvline(800,c='y')\n",
    "plt.title('NumWords')\n",
    "plt.legend()\n",
    "plt.show()"
   ]
  },
  {
   "cell_type": "code",
   "execution_count": 92,
   "metadata": {},
   "outputs": [
    {
     "data": {
      "image/png": "[encoded data removed]",
      "text/plain": [
       "<Figure size 576x432 with 1 Axes>"
      ]
     },
     "metadata": {
      "needs_background": "light"
     },
     "output_type": "display_data"
    }
   ],
   "source": [
    "is_spam_data = [doc.features[4] for doc in train_docs if doc[1] == True]\n",
    "not_spam_data = [doc.features[4] for doc in train_docs if doc[1] == False]\n",
    "bins = 200\n",
    "plt.figure(figsize=(8,6))\n",
    "plt.hist(is_spam_data, bins=bins, color='red', normed=True, alpha=0.7, label='spam')\n",
    "plt.hist(not_spam_data, bins=bins, color='blue', normed=True, alpha=0.7, label='not_spam')\n",
    "plt.axvline(0.28,c='y')\n",
    "plt.title('compression_level')\n",
    "plt.legend()\n",
    "plt.show()"
   ]
  },
  {
   "cell_type": "code",
   "execution_count": null,
   "metadata": {},
   "outputs": [],
   "source": []
  },
  {
   "cell_type": "code",
   "execution_count": 71,
   "metadata": {},
   "outputs": [
    {
     "data": {
      "image/png": "[encoded data removed]",
      "text/plain": [
       "<Figure size 432x288 with 1 Axes>"
      ]
     },
     "metadata": {
      "needs_background": "light"
     },
     "output_type": "display_data"
    }
   ],
   "source": [
    "is_spam_data = [doc.features[1] for doc in train_docs if doc[1] == True]\n",
    "not_spam_data = [doc.features[1] for doc in train_docs if doc[1] == False]\n",
    "bins = 100\n",
    "plt.hist(is_spam_data, bins=bins, color='red', normed=True, alpha=0.7, label='spam')\n",
    "plt.hist(not_spam_data, bins=bins, color='blue', normed=True, alpha=0.7, label='not_spam')\n",
    "plt.title('AvgWordLen')\n",
    "plt.legend()\n",
    "plt.show()"
   ]
  },
  {
   "cell_type": "code",
   "execution_count": 72,
   "metadata": {},
   "outputs": [
    {
     "data": {
      "image/png": "[encoded data removed]",
      "text/plain": [
       "<Figure size 432x288 with 1 Axes>"
      ]
     },
     "metadata": {
      "needs_background": "light"
     },
     "output_type": "display_data"
    }
   ],
   "source": [
    "is_spam_data = [doc.features[2] for doc in train_docs if doc[1] == True]\n",
    "not_spam_data = [doc.features[2] for doc in train_docs if doc[1] == False]\n",
    "bins = range(0, 30, 1)\n",
    "plt.hist(is_spam_data, bins=bins, color='red', normed=True, alpha=0.7, label='spam')\n",
    "plt.hist(not_spam_data, bins=bins, color='blue', normed=True, alpha=0.7, label='not_spam')\n",
    "plt.title('NumWordsTitle')\n",
    "plt.legend()\n",
    "plt.show()"
   ]
  },
  {
   "cell_type": "code",
   "execution_count": 73,
   "metadata": {},
   "outputs": [],
   "source": [
    "#Добавить графики для остальных фичей"
   ]
  },
  {
   "cell_type": "markdown",
   "metadata": {},
   "source": [
    "** Классификатор: **\n",
    "Нужно реализовать"
   ]
  },
  {
   "cell_type": "code",
   "execution_count": 81,
   "metadata": {},
   "outputs": [],
   "source": [
    "class Classifier:\n",
    "    \n",
    "    def __init__(self):\n",
    "        pass\n",
    "\n",
    "    def predict(self, doc):        \n",
    "        return doc.features[4]                     \n",
    "    \n",
    "    def predict_all(self, docs):\n",
    "        res = []\n",
    "        for doc_num, doc in enumerate(docs):\n",
    "            trace(doc_num)\n",
    "            prediction = self.predict(doc)            \n",
    "            res.append( (doc.doc_id, doc.is_spam, doc.url, prediction) )\n",
    "        return res\n",
    "    \n",
    "    def train(self, docs):                \n",
    "        for doc_num, doc in enumerate(docs):                            \n",
    "            #TODO вставить код обучения\n",
    "            trace(doc_num)\n",
    "        trace(doc_num, 1)"
   ]
  },
  {
   "cell_type": "code",
   "execution_count": 82,
   "metadata": {
    "scrolled": true
   },
   "outputs": [
    {
     "name": "stderr",
     "output_type": "stream",
     "text": [
      "15:21:58 INFO:Complete items 00000\n",
      "15:21:58 INFO:Complete items 01000\n",
      "15:21:58 INFO:Complete items 02000\n",
      "15:21:58 INFO:Complete items 03000\n",
      "15:21:58 INFO:Complete items 04000\n",
      "15:21:58 INFO:Complete items 05000\n",
      "15:21:58 INFO:Complete items 06000\n",
      "15:21:58 INFO:Complete items 07000\n",
      "15:21:58 INFO:Complete items 07043\n"
     ]
    }
   ],
   "source": [
    "classifier = Classifier()\n",
    "classifier.train(train_docs)"
   ]
  },
  {
   "cell_type": "code",
   "execution_count": 83,
   "metadata": {},
   "outputs": [
    {
     "data": {
      "text/plain": [
       "1.1538461538461537"
      ]
     },
     "execution_count": 83,
     "metadata": {},
     "output_type": "execute_result"
    }
   ],
   "source": [
    "#Посмотреть, что предсказывается для тестового html\n",
    "classifier.predict(DocItem(0, 0, test_url , test_features))"
   ]
  },
  {
   "cell_type": "markdown",
   "metadata": {},
   "source": [
    "** Рисуем графики **"
   ]
  },
  {
   "cell_type": "code",
   "execution_count": 84,
   "metadata": {
    "scrolled": true
   },
   "outputs": [
    {
     "name": "stderr",
     "output_type": "stream",
     "text": [
      "15:21:59 INFO:Complete items 00000\n",
      "15:21:59 INFO:Complete items 01000\n",
      "15:21:59 INFO:Complete items 02000\n",
      "15:21:59 INFO:Complete items 03000\n",
      "15:21:59 INFO:Complete items 04000\n",
      "15:21:59 INFO:Complete items 05000\n",
      "15:21:59 INFO:Complete items 06000\n",
      "15:21:59 INFO:Complete items 07000\n"
     ]
    },
    {
     "name": "stdout",
     "output_type": "stream",
     "text": [
      "threshold 0\n",
      "\tclass_prec 0.583333333333, class_recall 1.0, class_F1 0.736842105263\n",
      "\tnot_class_prec 0.0, not_class_recall 0.0, not_class_F1 0.0\n",
      "\t\tMacroF1Mesure 0.368421052632\n",
      "threshold 100\n",
      "\tclass_prec 0.0, class_recall 0.0, class_F1 0.0\n",
      "\tnot_class_prec 0.416666666667, not_class_recall 1.0, not_class_F1 0.588235294118\n",
      "\t\tMacroF1Mesure 0.294117647059\n",
      "threshold 200\n",
      "\tclass_prec 0.0, class_recall 0.0, class_F1 0.0\n",
      "\tnot_class_prec 0.416666666667, not_class_recall 1.0, not_class_F1 0.588235294118\n",
      "\t\tMacroF1Mesure 0.294117647059\n",
      "threshold 300\n",
      "\tclass_prec 0.0, class_recall 0.0, class_F1 0.0\n",
      "\tnot_class_prec 0.416666666667, not_class_recall 1.0, not_class_F1 0.588235294118\n",
      "\t\tMacroF1Mesure 0.294117647059\n",
      "threshold 400\n",
      "\tclass_prec 0.0, class_recall 0.0, class_F1 0.0\n",
      "\tnot_class_prec 0.416666666667, not_class_recall 1.0, not_class_F1 0.588235294118\n",
      "\t\tMacroF1Mesure 0.294117647059\n",
      "threshold 500\n",
      "\tclass_prec 0.0, class_recall 0.0, class_F1 0.0\n",
      "\tnot_class_prec 0.416666666667, not_class_recall 1.0, not_class_F1 0.588235294118\n",
      "\t\tMacroF1Mesure 0.294117647059\n",
      "threshold 600\n",
      "\tclass_prec 0.0, class_recall 0.0, class_F1 0.0\n",
      "\tnot_class_prec 0.416666666667, not_class_recall 1.0, not_class_F1 0.588235294118\n",
      "\t\tMacroF1Mesure 0.294117647059\n",
      "threshold 700\n",
      "\tclass_prec 0.0, class_recall 0.0, class_F1 0.0\n",
      "\tnot_class_prec 0.416666666667, not_class_recall 1.0, not_class_F1 0.588235294118\n",
      "\t\tMacroF1Mesure 0.294117647059\n",
      "threshold 800\n",
      "\tclass_prec 0.0, class_recall 0.0, class_F1 0.0\n",
      "\tnot_class_prec 0.416666666667, not_class_recall 1.0, not_class_F1 0.588235294118\n",
      "\t\tMacroF1Mesure 0.294117647059\n",
      "threshold 900\n",
      "\tclass_prec 0.0, class_recall 0.0, class_F1 0.0\n",
      "\tnot_class_prec 0.416666666667, not_class_recall 1.0, not_class_F1 0.588235294118\n",
      "\t\tMacroF1Mesure 0.294117647059\n",
      "threshold 1000\n",
      "\tclass_prec 0.0, class_recall 0.0, class_F1 0.0\n",
      "\tnot_class_prec 0.416666666667, not_class_recall 1.0, not_class_F1 0.588235294118\n",
      "\t\tMacroF1Mesure 0.294117647059\n",
      "threshold 1100\n",
      "\tclass_prec 0.0, class_recall 0.0, class_F1 0.0\n",
      "\tnot_class_prec 0.416666666667, not_class_recall 1.0, not_class_F1 0.588235294118\n",
      "\t\tMacroF1Mesure 0.294117647059\n",
      "threshold 1200\n",
      "\tclass_prec 0.0, class_recall 0.0, class_F1 0.0\n",
      "\tnot_class_prec 0.416666666667, not_class_recall 1.0, not_class_F1 0.588235294118\n",
      "\t\tMacroF1Mesure 0.294117647059\n",
      "threshold 1300\n",
      "\tclass_prec 0.0, class_recall 0.0, class_F1 0.0\n",
      "\tnot_class_prec 0.416666666667, not_class_recall 1.0, not_class_F1 0.588235294118\n",
      "\t\tMacroF1Mesure 0.294117647059\n",
      "threshold 1400\n",
      "\tclass_prec 0.0, class_recall 0.0, class_F1 0.0\n",
      "\tnot_class_prec 0.416666666667, not_class_recall 1.0, not_class_F1 0.588235294118\n",
      "\t\tMacroF1Mesure 0.294117647059\n",
      "threshold 1500\n",
      "\tclass_prec 0.0, class_recall 0.0, class_F1 0.0\n",
      "\tnot_class_prec 0.416666666667, not_class_recall 1.0, not_class_F1 0.588235294118\n",
      "\t\tMacroF1Mesure 0.294117647059\n",
      "threshold 1600\n",
      "\tclass_prec 0.0, class_recall 0.0, class_F1 0.0\n",
      "\tnot_class_prec 0.416666666667, not_class_recall 1.0, not_class_F1 0.588235294118\n",
      "\t\tMacroF1Mesure 0.294117647059\n",
      "threshold 1700\n",
      "\tclass_prec 0.0, class_recall 0.0, class_F1 0.0\n",
      "\tnot_class_prec 0.416666666667, not_class_recall 1.0, not_class_F1 0.588235294118\n",
      "\t\tMacroF1Mesure 0.294117647059\n",
      "threshold 1800\n",
      "\tclass_prec 0.0, class_recall 0.0, class_F1 0.0\n",
      "\tnot_class_prec 0.416666666667, not_class_recall 1.0, not_class_F1 0.588235294118\n",
      "\t\tMacroF1Mesure 0.294117647059\n",
      "threshold 1900\n",
      "\tclass_prec 0.0, class_recall 0.0, class_F1 0.0\n",
      "\tnot_class_prec 0.416666666667, not_class_recall 1.0, not_class_F1 0.588235294118\n",
      "\t\tMacroF1Mesure 0.294117647059\n",
      "threshold 2000\n",
      "\tclass_prec 0.0, class_recall 0.0, class_F1 0.0\n",
      "\tnot_class_prec 0.416666666667, not_class_recall 1.0, not_class_F1 0.588235294118\n",
      "\t\tMacroF1Mesure 0.294117647059\n",
      "threshold 2100\n",
      "\tclass_prec 0.0, class_recall 0.0, class_F1 0.0\n",
      "\tnot_class_prec 0.416666666667, not_class_recall 1.0, not_class_F1 0.588235294118\n",
      "\t\tMacroF1Mesure 0.294117647059\n",
      "threshold 2200\n",
      "\tclass_prec 0.0, class_recall 0.0, class_F1 0.0\n",
      "\tnot_class_prec 0.416666666667, not_class_recall 1.0, not_class_F1 0.588235294118\n",
      "\t\tMacroF1Mesure 0.294117647059\n",
      "threshold 2300\n",
      "\tclass_prec 0.0, class_recall 0.0, class_F1 0.0\n",
      "\tnot_class_prec 0.416666666667, not_class_recall 1.0, not_class_F1 0.588235294118\n",
      "\t\tMacroF1Mesure 0.294117647059\n",
      "threshold 2400\n",
      "\tclass_prec 0.0, class_recall 0.0, class_F1 0.0\n",
      "\tnot_class_prec 0.416666666667, not_class_recall 1.0, not_class_F1 0.588235294118\n",
      "\t\tMacroF1Mesure 0.294117647059\n",
      "threshold 2500\n",
      "\tclass_prec 0.0, class_recall 0.0, class_F1 0.0\n",
      "\tnot_class_prec 0.416666666667, not_class_recall 1.0, not_class_F1 0.588235294118\n",
      "\t\tMacroF1Mesure 0.294117647059\n",
      "threshold 2600\n",
      "\tclass_prec 0.0, class_recall 0.0, class_F1 0.0\n",
      "\tnot_class_prec 0.416666666667, not_class_recall 1.0, not_class_F1 0.588235294118\n",
      "\t\tMacroF1Mesure 0.294117647059\n",
      "threshold 2700\n",
      "\tclass_prec 0.0, class_recall 0.0, class_F1 0.0\n",
      "\tnot_class_prec 0.416666666667, not_class_recall 1.0, not_class_F1 0.588235294118\n",
      "\t\tMacroF1Mesure 0.294117647059\n",
      "threshold 2800\n",
      "\tclass_prec 0.0, class_recall 0.0, class_F1 0.0\n",
      "\tnot_class_prec 0.416666666667, not_class_recall 1.0, not_class_F1 0.588235294118\n",
      "\t\tMacroF1Mesure 0.294117647059\n",
      "threshold 2900\n",
      "\tclass_prec 0.0, class_recall 0.0, class_F1 0.0\n",
      "\tnot_class_prec 0.416666666667, not_class_recall 1.0, not_class_F1 0.588235294118\n",
      "\t\tMacroF1Mesure 0.294117647059\n",
      "threshold 3000\n",
      "\tclass_prec 0.0, class_recall 0.0, class_F1 0.0\n",
      "\tnot_class_prec 0.416666666667, not_class_recall 1.0, not_class_F1 0.588235294118\n",
      "\t\tMacroF1Mesure 0.294117647059\n"
     ]
    },
    {
     "data": {
      "image/png": "[encoded data removed]",
      "text/plain": [
       "<Figure size 720x360 with 1 Axes>"
      ]
     },
     "metadata": {
      "needs_background": "light"
     },
     "output_type": "display_data"
    },
    {
     "data": {
      "image/png": "[encoded data removed]",
      "text/plain": [
       "<Figure size 720x360 with 1 Axes>"
      ]
     },
     "metadata": {
      "needs_background": "light"
     },
     "output_type": "display_data"
    }
   ],
   "source": [
    "plot_results(train_docs, min_threshold=0, max_threshold=3000, step=100, trace=1)"
   ]
  },
  {
   "cell_type": "code",
   "execution_count": 86,
   "metadata": {},
   "outputs": [
    {
     "name": "stderr",
     "output_type": "stream",
     "text": [
      "15:23:01 INFO:Complete items 00000 in worker_id 0\n",
      "15:23:01 INFO:Complete items 00000 in worker_id 1\n",
      "15:23:01 INFO:Complete items 00000 in worker_id 2\n",
      "15:23:01 INFO:Complete items 00000\n",
      "15:23:01 INFO:Complete items 00000 in worker_id 3\n",
      "15:23:06 INFO:Complete items 01000 in worker_id 2\n",
      "15:23:07 INFO:Complete items 01000 in worker_id 1\n",
      "15:23:07 INFO:Complete items 01000\n",
      "15:23:09 INFO:Complete items 01000 in worker_id 3\n",
      "15:23:10 INFO:Complete items 01000 in worker_id 0\n",
      "15:23:12 INFO:Complete items 02000 in worker_id 2\n",
      "15:23:12 INFO:Complete items 02000 in worker_id 1\n",
      "15:23:15 INFO:Complete items 02000\n",
      "15:23:17 INFO:Complete items 02000 in worker_id 0\n",
      "15:23:17 INFO:Complete items 02000 in worker_id 3\n",
      "15:23:19 INFO:Complete items 03000 in worker_id 2\n",
      "15:23:19 INFO:Complete items 03000 in worker_id 1\n",
      "15:23:21 INFO:Complete items 03000\n",
      "15:23:23 INFO:Complete items 03000 in worker_id 3\n",
      "15:23:24 INFO:Complete items 03000 in worker_id 0\n",
      "15:23:24 INFO:Complete items 04000 in worker_id 2\n",
      "15:23:25 INFO:Complete items 04000 in worker_id 1\n",
      "15:23:28 INFO:Complete items 04000\n",
      "15:23:29 INFO:Complete items 05000 in worker_id 2\n",
      "15:23:30 INFO:Complete items 04000 in worker_id 0\n",
      "15:23:30 INFO:Complete items 04000 in worker_id 3\n",
      "15:23:31 INFO:Complete items 05000 in worker_id 1\n",
      "15:23:33 INFO:Complete items 05000\n",
      "15:23:34 INFO:Complete items 06000 in worker_id 2\n",
      "15:23:35 INFO:Complete items 05000 in worker_id 0\n",
      "15:23:35 INFO:Complete items 05000 in worker_id 3\n",
      "15:23:39 INFO:Complete items 06000\n",
      "15:23:40 INFO:Complete items 07000 in worker_id 2\n",
      "15:23:41 INFO:Complete items 06000 in worker_id 1\n",
      "15:23:41 INFO:Complete items 06000 in worker_id 0\n",
      "15:23:42 INFO:Complete items 06000 in worker_id 3\n",
      "15:23:45 INFO:Complete items 08000 in worker_id 2\n",
      "15:23:45 INFO:Complete items 07000\n",
      "15:23:46 INFO:Complete items 07000 in worker_id 1\n",
      "15:23:47 INFO:Complete items 07000 in worker_id 0\n",
      "15:23:48 INFO:Complete items 07000 in worker_id 3\n",
      "15:23:50 INFO:Complete items 09000 in worker_id 2\n",
      "15:23:52 INFO:Complete items 08000\n",
      "15:23:53 INFO:Complete items 08000 in worker_id 1\n",
      "15:23:54 INFO:Complete items 08000 in worker_id 0\n",
      "15:23:54 INFO:Complete items 08000 in worker_id 3\n",
      "15:23:57 INFO:Complete items 10000 in worker_id 2\n",
      "15:23:57 INFO:Complete items 09000\n",
      "15:23:59 INFO:Complete items 09000 in worker_id 1\n",
      "15:24:00 INFO:Complete items 09000 in worker_id 3\n",
      "15:24:01 INFO:Complete items 09000 in worker_id 0\n",
      "15:24:03 INFO:Complete items 11000 in worker_id 2\n",
      "15:24:06 INFO:Complete items 10000\n",
      "15:24:06 INFO:Complete items 10000 in worker_id 1\n",
      "15:24:08 INFO:Complete items 10000 in worker_id 0\n",
      "15:24:11 INFO:Complete items 12000 in worker_id 2\n",
      "15:24:11 INFO:Complete items 11000 in worker_id 1\n",
      "15:24:11 INFO:Complete items 10000 in worker_id 3\n",
      "15:24:12 INFO:Complete items 11000\n",
      "15:24:14 INFO:Complete items 11000 in worker_id 0\n",
      "15:24:16 INFO:Complete items 11000 in worker_id 3\n",
      "15:24:18 INFO:Complete items 13000 in worker_id 2\n",
      "15:24:18 INFO:Complete items 12000 in worker_id 1\n",
      "15:24:18 INFO:Complete items 12000\n",
      "15:24:20 INFO:Complete items 12000 in worker_id 0\n",
      "15:24:22 INFO:Complete items 12000 in worker_id 3\n",
      "15:24:22 INFO:Complete items 13000 in worker_id 1\n",
      "15:24:23 INFO:Complete items 13000\n",
      "15:24:25 INFO:Complete items 13000 in worker_id 0\n",
      "15:24:26 INFO:Complete items 14000 in worker_id 2\n",
      "15:24:27 INFO:Complete items 13000 in worker_id 3\n",
      "15:24:29 INFO:Complete items 14000 in worker_id 1\n",
      "15:24:30 INFO:Complete items 14000\n",
      "15:24:31 INFO:Complete items 14000 in worker_id 0\n",
      "15:24:32 INFO:Complete items 15000 in worker_id 2\n",
      "15:24:33 INFO:Complete items 14000 in worker_id 3\n",
      "15:24:34 INFO:Complete items 15000 in worker_id 1\n",
      "15:24:37 INFO:Complete items 15000\n",
      "15:24:38 INFO:Complete items 15000 in worker_id 0\n",
      "15:24:39 INFO:Complete items 15000 in worker_id 3\n",
      "15:24:41 INFO:Complete items 16000 in worker_id 2\n",
      "15:24:41 INFO:Complete items 16038 in worker_id 2\n",
      "15:24:41 INFO:Complete items 16000 in worker_id 1\n",
      "15:24:41 INFO:Complete items 16038 in worker_id 1\n",
      "15:24:43 INFO:Complete items 16000 in worker_id 0\n",
      "15:24:43 INFO:Complete items 16038 in worker_id 0\n",
      "15:24:45 INFO:Complete items 16000\n",
      "15:24:45 INFO:Complete items 16000 in worker_id 3\n",
      "15:24:46 INFO:Complete items 16038 in worker_id 3\n"
     ]
    },
    {
     "name": "stdout",
     "output_type": "stream",
     "text": [
      "CPU times: user 686 ms, sys: 167 ms, total: 853 ms\n",
      "Wall time: 1min 45s\n"
     ]
    }
   ],
   "source": [
    "%%time\n",
    "\n",
    "TEST_DATA_FILE  = 'kaggle/kaggle_test_data_tab.csv.gz'\n",
    "# TEST_DATA_FILE  = 'kaggle/kaggle_train_data_tab_300.csv.gz'\n",
    "\n",
    "test_docs = load_csv_multiprocess(TEST_DATA_FILE, calc_features)\n",
    "\n",
    "threshold = 0.28\n",
    "\n",
    "with open('my_submission.csv' , 'wb') as fout:\n",
    "    writer = csv.writer(fout)\n",
    "    writer.writerow(['Id','Prediction'])\n",
    "    for item in classifier.predict_all(test_docs):\n",
    "        prediction =  1 if item[3] > threshold else 0\n",
    "        writer.writerow([item[0], prediction])"
   ]
  },
  {
   "cell_type": "code",
   "execution_count": null,
   "metadata": {},
   "outputs": [],
   "source": []
  }
 ],
 "metadata": {
  "anaconda-cloud": {},
  "kernelspec": {
   "display_name": "Python 2",
   "language": "python",
   "name": "python2"
  },
  "language_info": {
   "codemirror_mode": {
    "name": "ipython",
    "version": 2
   },
   "file_extension": ".py",
   "mimetype": "text/x-python",
   "name": "python",
   "nbconvert_exporter": "python",
   "pygments_lexer": "ipython2",
   "version": "2.7.16"
  }
 },
 "nbformat": 4,
 "nbformat_minor": 1
}
